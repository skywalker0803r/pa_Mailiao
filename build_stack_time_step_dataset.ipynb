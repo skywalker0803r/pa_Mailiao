{
 "cells": [
  {
   "cell_type": "markdown",
   "metadata": {},
   "source": [
    "## import os "
   ]
  },
  {
   "cell_type": "code",
   "execution_count": 113,
   "metadata": {},
   "outputs": [
    {
     "data": {
      "text/plain": [
       "['dataset_for_cnn_model',\n",
       " 'PA_201605-2012001更新R6(20190509).xlsx',\n",
       " 'tag盤點表.xlsx',\n",
       " 'train.csv',\n",
       " 'train_FeatureSelected.csv',\n",
       " 'train_spec_checked_and_add_target(full).csv']"
      ]
     },
     "execution_count": 113,
     "metadata": {},
     "output_type": "execute_result"
    }
   ],
   "source": [
    "import os\n",
    "os.listdir('./data')"
   ]
  },
  {
   "cell_type": "code",
   "execution_count": 114,
   "metadata": {},
   "outputs": [],
   "source": [
    "import pandas as pd\n",
    "import matplotlib.pyplot as plt\n",
    "import matplotlib.image as mpimg\n",
    "import numpy as np\n",
    "import seaborn as sns\n",
    "import torch.optim as optim\n",
    "from torch.utils.tensorboard import SummaryWriter\n",
    "import torch\n",
    "from tqdm import tqdm_notebook as tqdm\n",
    "import joblib"
   ]
  },
  {
   "cell_type": "markdown",
   "metadata": {},
   "source": [
    "# load"
   ]
  },
  {
   "cell_type": "code",
   "execution_count": 115,
   "metadata": {},
   "outputs": [
    {
     "name": "stdout",
     "output_type": "stream",
     "text": [
      "(193824, 85)\n"
     ]
    },
    {
     "data": {
      "text/html": [
       "<div>\n",
       "<style scoped>\n",
       "    .dataframe tbody tr th:only-of-type {\n",
       "        vertical-align: middle;\n",
       "    }\n",
       "\n",
       "    .dataframe tbody tr th {\n",
       "        vertical-align: top;\n",
       "    }\n",
       "\n",
       "    .dataframe thead th {\n",
       "        text-align: right;\n",
       "    }\n",
       "</style>\n",
       "<table border=\"1\" class=\"dataframe\">\n",
       "  <thead>\n",
       "    <tr style=\"text-align: right;\">\n",
       "      <th></th>\n",
       "      <th>MLPAP_PI-0658.PV</th>\n",
       "      <th>MLPAP_TI-0716A22</th>\n",
       "      <th>MLPAP_TI-0706B13</th>\n",
       "      <th>MLPAP_TI-0716A03</th>\n",
       "      <th>MLPAP_TI-0706B01</th>\n",
       "      <th>MLPAP_TI-0715B1.PV</th>\n",
       "      <th>MLPAP_PIC-0761.PV</th>\n",
       "      <th>MLPAP_V125-PHD</th>\n",
       "      <th>MLPAP_TI-0706B02</th>\n",
       "      <th>MLPAP_TI-0716A16</th>\n",
       "      <th>...</th>\n",
       "      <th>MLPAP_TI-0720B1.PV</th>\n",
       "      <th>MLPAP_TI-0716A05</th>\n",
       "      <th>MLPAP_TI-0706B24</th>\n",
       "      <th>MLPAP_TI-0706B06</th>\n",
       "      <th>MLPAP_TI-0706B07</th>\n",
       "      <th>MLPAP_LIC-0738.PV</th>\n",
       "      <th>MLPAP_TI-0706B16</th>\n",
       "      <th>MLPAP_LRC-0729.PV</th>\n",
       "      <th>over_range_count</th>\n",
       "      <th>target</th>\n",
       "    </tr>\n",
       "  </thead>\n",
       "  <tbody>\n",
       "    <tr>\n",
       "      <td>2016-05-09 00:00:00</td>\n",
       "      <td>-1.000000</td>\n",
       "      <td>401.0</td>\n",
       "      <td>401.0</td>\n",
       "      <td>400.100219</td>\n",
       "      <td>402.349811</td>\n",
       "      <td>399.684741</td>\n",
       "      <td>46.900002</td>\n",
       "      <td>0.051</td>\n",
       "      <td>400.0</td>\n",
       "      <td>401.253627</td>\n",
       "      <td>...</td>\n",
       "      <td>401.865110</td>\n",
       "      <td>400.0</td>\n",
       "      <td>402.0</td>\n",
       "      <td>401.148767</td>\n",
       "      <td>401.0</td>\n",
       "      <td>5.235951</td>\n",
       "      <td>402.050208</td>\n",
       "      <td>0.0</td>\n",
       "      <td>20</td>\n",
       "      <td>NaN</td>\n",
       "    </tr>\n",
       "    <tr>\n",
       "      <td>2016-05-09 00:10:00</td>\n",
       "      <td>-1.000000</td>\n",
       "      <td>401.0</td>\n",
       "      <td>401.0</td>\n",
       "      <td>400.050129</td>\n",
       "      <td>402.000000</td>\n",
       "      <td>399.625166</td>\n",
       "      <td>46.900002</td>\n",
       "      <td>0.051</td>\n",
       "      <td>400.0</td>\n",
       "      <td>401.361592</td>\n",
       "      <td>...</td>\n",
       "      <td>401.954911</td>\n",
       "      <td>400.0</td>\n",
       "      <td>402.0</td>\n",
       "      <td>401.000000</td>\n",
       "      <td>401.0</td>\n",
       "      <td>5.208001</td>\n",
       "      <td>402.000000</td>\n",
       "      <td>0.0</td>\n",
       "      <td>20</td>\n",
       "      <td>NaN</td>\n",
       "    </tr>\n",
       "    <tr>\n",
       "      <td>2016-05-09 00:20:00</td>\n",
       "      <td>-0.898558</td>\n",
       "      <td>401.0</td>\n",
       "      <td>401.0</td>\n",
       "      <td>400.149919</td>\n",
       "      <td>402.350189</td>\n",
       "      <td>399.670499</td>\n",
       "      <td>46.930040</td>\n",
       "      <td>0.051</td>\n",
       "      <td>400.0</td>\n",
       "      <td>401.899611</td>\n",
       "      <td>...</td>\n",
       "      <td>401.922669</td>\n",
       "      <td>400.0</td>\n",
       "      <td>402.0</td>\n",
       "      <td>401.000000</td>\n",
       "      <td>401.0</td>\n",
       "      <td>5.246516</td>\n",
       "      <td>402.000000</td>\n",
       "      <td>0.0</td>\n",
       "      <td>20</td>\n",
       "      <td>NaN</td>\n",
       "    </tr>\n",
       "    <tr>\n",
       "      <td>2016-05-09 00:30:00</td>\n",
       "      <td>-0.509010</td>\n",
       "      <td>401.0</td>\n",
       "      <td>401.0</td>\n",
       "      <td>400.099776</td>\n",
       "      <td>402.400044</td>\n",
       "      <td>399.697396</td>\n",
       "      <td>46.900002</td>\n",
       "      <td>0.051</td>\n",
       "      <td>400.0</td>\n",
       "      <td>401.849886</td>\n",
       "      <td>...</td>\n",
       "      <td>401.927230</td>\n",
       "      <td>400.0</td>\n",
       "      <td>402.0</td>\n",
       "      <td>401.000000</td>\n",
       "      <td>401.0</td>\n",
       "      <td>5.385347</td>\n",
       "      <td>402.000000</td>\n",
       "      <td>0.0</td>\n",
       "      <td>20</td>\n",
       "      <td>NaN</td>\n",
       "    </tr>\n",
       "    <tr>\n",
       "      <td>2016-05-09 00:40:00</td>\n",
       "      <td>-0.992771</td>\n",
       "      <td>401.0</td>\n",
       "      <td>401.0</td>\n",
       "      <td>400.199982</td>\n",
       "      <td>402.101425</td>\n",
       "      <td>399.775506</td>\n",
       "      <td>46.900002</td>\n",
       "      <td>0.051</td>\n",
       "      <td>400.0</td>\n",
       "      <td>401.599924</td>\n",
       "      <td>...</td>\n",
       "      <td>401.900039</td>\n",
       "      <td>400.0</td>\n",
       "      <td>402.0</td>\n",
       "      <td>401.000000</td>\n",
       "      <td>401.0</td>\n",
       "      <td>5.306820</td>\n",
       "      <td>402.000000</td>\n",
       "      <td>0.0</td>\n",
       "      <td>20</td>\n",
       "      <td>NaN</td>\n",
       "    </tr>\n",
       "  </tbody>\n",
       "</table>\n",
       "<p>5 rows × 85 columns</p>\n",
       "</div>"
      ],
      "text/plain": [
       "                     MLPAP_PI-0658.PV  MLPAP_TI-0716A22  MLPAP_TI-0706B13  \\\n",
       "2016-05-09 00:00:00         -1.000000             401.0             401.0   \n",
       "2016-05-09 00:10:00         -1.000000             401.0             401.0   \n",
       "2016-05-09 00:20:00         -0.898558             401.0             401.0   \n",
       "2016-05-09 00:30:00         -0.509010             401.0             401.0   \n",
       "2016-05-09 00:40:00         -0.992771             401.0             401.0   \n",
       "\n",
       "                     MLPAP_TI-0716A03  MLPAP_TI-0706B01  MLPAP_TI-0715B1.PV  \\\n",
       "2016-05-09 00:00:00        400.100219        402.349811          399.684741   \n",
       "2016-05-09 00:10:00        400.050129        402.000000          399.625166   \n",
       "2016-05-09 00:20:00        400.149919        402.350189          399.670499   \n",
       "2016-05-09 00:30:00        400.099776        402.400044          399.697396   \n",
       "2016-05-09 00:40:00        400.199982        402.101425          399.775506   \n",
       "\n",
       "                     MLPAP_PIC-0761.PV  MLPAP_V125-PHD  MLPAP_TI-0706B02  \\\n",
       "2016-05-09 00:00:00          46.900002           0.051             400.0   \n",
       "2016-05-09 00:10:00          46.900002           0.051             400.0   \n",
       "2016-05-09 00:20:00          46.930040           0.051             400.0   \n",
       "2016-05-09 00:30:00          46.900002           0.051             400.0   \n",
       "2016-05-09 00:40:00          46.900002           0.051             400.0   \n",
       "\n",
       "                     MLPAP_TI-0716A16  ...  MLPAP_TI-0720B1.PV  \\\n",
       "2016-05-09 00:00:00        401.253627  ...          401.865110   \n",
       "2016-05-09 00:10:00        401.361592  ...          401.954911   \n",
       "2016-05-09 00:20:00        401.899611  ...          401.922669   \n",
       "2016-05-09 00:30:00        401.849886  ...          401.927230   \n",
       "2016-05-09 00:40:00        401.599924  ...          401.900039   \n",
       "\n",
       "                     MLPAP_TI-0716A05  MLPAP_TI-0706B24  MLPAP_TI-0706B06  \\\n",
       "2016-05-09 00:00:00             400.0             402.0        401.148767   \n",
       "2016-05-09 00:10:00             400.0             402.0        401.000000   \n",
       "2016-05-09 00:20:00             400.0             402.0        401.000000   \n",
       "2016-05-09 00:30:00             400.0             402.0        401.000000   \n",
       "2016-05-09 00:40:00             400.0             402.0        401.000000   \n",
       "\n",
       "                     MLPAP_TI-0706B07  MLPAP_LIC-0738.PV  MLPAP_TI-0706B16  \\\n",
       "2016-05-09 00:00:00             401.0           5.235951        402.050208   \n",
       "2016-05-09 00:10:00             401.0           5.208001        402.000000   \n",
       "2016-05-09 00:20:00             401.0           5.246516        402.000000   \n",
       "2016-05-09 00:30:00             401.0           5.385347        402.000000   \n",
       "2016-05-09 00:40:00             401.0           5.306820        402.000000   \n",
       "\n",
       "                     MLPAP_LRC-0729.PV  over_range_count  target  \n",
       "2016-05-09 00:00:00                0.0                20     NaN  \n",
       "2016-05-09 00:10:00                0.0                20     NaN  \n",
       "2016-05-09 00:20:00                0.0                20     NaN  \n",
       "2016-05-09 00:30:00                0.0                20     NaN  \n",
       "2016-05-09 00:40:00                0.0                20     NaN  \n",
       "\n",
       "[5 rows x 85 columns]"
      ]
     },
     "execution_count": 115,
     "metadata": {},
     "output_type": "execute_result"
    }
   ],
   "source": [
    "df = pd.read_csv('./data/train_spec_checked_and_add_target(full).csv',index_col = 0,parse_dates = True)\n",
    "print(df.shape)\n",
    "df.head()"
   ]
  },
  {
   "cell_type": "code",
   "execution_count": 116,
   "metadata": {},
   "outputs": [
    {
     "data": {
      "text/plain": [
       "count    193824.000000\n",
       "mean         20.107195\n",
       "std          31.648726\n",
       "min           0.000000\n",
       "25%           1.000000\n",
       "50%           4.000000\n",
       "75%           8.000000\n",
       "max          82.000000\n",
       "Name: over_range_count, dtype: float64"
      ]
     },
     "execution_count": 116,
     "metadata": {},
     "output_type": "execute_result"
    }
   ],
   "source": [
    "df['over_range_count'].describe()"
   ]
  },
  {
   "cell_type": "code",
   "execution_count": 117,
   "metadata": {},
   "outputs": [
    {
     "data": {
      "text/plain": [
       "(array([1.46058e+05, 3.16800e+03, 1.45700e+03, 1.09000e+02, 3.70000e+01,\n",
       "        2.40000e+01, 1.80000e+01, 3.60000e+01, 5.70000e+01, 4.28600e+04]),\n",
       " array([ 0. ,  8.2, 16.4, 24.6, 32.8, 41. , 49.2, 57.4, 65.6, 73.8, 82. ]),\n",
       " <a list of 10 Patch objects>)"
      ]
     },
     "execution_count": 117,
     "metadata": {},
     "output_type": "execute_result"
    },
    {
     "data": {
      "image/png": "[encoded data removed]",
      "text/plain": [
       "<Figure size 432x288 with 1 Axes>"
      ]
     },
     "metadata": {
      "needs_background": "light"
     },
     "output_type": "display_data"
    }
   ],
   "source": [
    "plt.hist(df['over_range_count'])"
   ]
  },
  {
   "cell_type": "code",
   "execution_count": 118,
   "metadata": {},
   "outputs": [
    {
     "data": {
      "text/plain": [
       "51.47308852004386"
      ]
     },
     "execution_count": 118,
     "metadata": {},
     "output_type": "execute_result"
    }
   ],
   "source": [
    "threshold = df['over_range_count'].median() + 1.5*df['over_range_count'].std()\n",
    "threshold"
   ]
  },
  {
   "cell_type": "markdown",
   "metadata": {},
   "source": [
    "# scale data"
   ]
  },
  {
   "cell_type": "code",
   "execution_count": 119,
   "metadata": {},
   "outputs": [
    {
     "name": "stdout",
     "output_type": "stream",
     "text": [
      "(193824, 85)\n"
     ]
    },
    {
     "data": {
      "text/html": [
       "<div>\n",
       "<style scoped>\n",
       "    .dataframe tbody tr th:only-of-type {\n",
       "        vertical-align: middle;\n",
       "    }\n",
       "\n",
       "    .dataframe tbody tr th {\n",
       "        vertical-align: top;\n",
       "    }\n",
       "\n",
       "    .dataframe thead th {\n",
       "        text-align: right;\n",
       "    }\n",
       "</style>\n",
       "<table border=\"1\" class=\"dataframe\">\n",
       "  <thead>\n",
       "    <tr style=\"text-align: right;\">\n",
       "      <th></th>\n",
       "      <th>MLPAP_PI-0658.PV</th>\n",
       "      <th>MLPAP_TI-0716A22</th>\n",
       "      <th>MLPAP_TI-0706B13</th>\n",
       "      <th>MLPAP_TI-0716A03</th>\n",
       "      <th>MLPAP_TI-0706B01</th>\n",
       "      <th>MLPAP_TI-0715B1.PV</th>\n",
       "      <th>MLPAP_PIC-0761.PV</th>\n",
       "      <th>MLPAP_V125-PHD</th>\n",
       "      <th>MLPAP_TI-0706B02</th>\n",
       "      <th>MLPAP_TI-0716A16</th>\n",
       "      <th>...</th>\n",
       "      <th>MLPAP_TI-0720B1.PV</th>\n",
       "      <th>MLPAP_TI-0716A05</th>\n",
       "      <th>MLPAP_TI-0706B24</th>\n",
       "      <th>MLPAP_TI-0706B06</th>\n",
       "      <th>MLPAP_TI-0706B07</th>\n",
       "      <th>MLPAP_LIC-0738.PV</th>\n",
       "      <th>MLPAP_TI-0706B16</th>\n",
       "      <th>MLPAP_LRC-0729.PV</th>\n",
       "      <th>over_range_count</th>\n",
       "      <th>target</th>\n",
       "    </tr>\n",
       "  </thead>\n",
       "  <tbody>\n",
       "    <tr>\n",
       "      <td>2016-05-09 00:00:00</td>\n",
       "      <td>0.260688</td>\n",
       "      <td>0.985042</td>\n",
       "      <td>0.987875</td>\n",
       "      <td>0.945361</td>\n",
       "      <td>0.989588</td>\n",
       "      <td>0.966670</td>\n",
       "      <td>0.939025</td>\n",
       "      <td>0.137097</td>\n",
       "      <td>0.932069</td>\n",
       "      <td>0.981626</td>\n",
       "      <td>...</td>\n",
       "      <td>0.979068</td>\n",
       "      <td>0.93927</td>\n",
       "      <td>0.984414</td>\n",
       "      <td>0.921227</td>\n",
       "      <td>0.929752</td>\n",
       "      <td>0.050863</td>\n",
       "      <td>0.985741</td>\n",
       "      <td>0.0</td>\n",
       "      <td>20</td>\n",
       "      <td>NaN</td>\n",
       "    </tr>\n",
       "    <tr>\n",
       "      <td>2016-05-09 00:10:00</td>\n",
       "      <td>0.260688</td>\n",
       "      <td>0.985042</td>\n",
       "      <td>0.987875</td>\n",
       "      <td>0.945253</td>\n",
       "      <td>0.988825</td>\n",
       "      <td>0.966515</td>\n",
       "      <td>0.939025</td>\n",
       "      <td>0.137097</td>\n",
       "      <td>0.932069</td>\n",
       "      <td>0.981916</td>\n",
       "      <td>...</td>\n",
       "      <td>0.979286</td>\n",
       "      <td>0.93927</td>\n",
       "      <td>0.984414</td>\n",
       "      <td>0.920856</td>\n",
       "      <td>0.929752</td>\n",
       "      <td>0.050591</td>\n",
       "      <td>0.985606</td>\n",
       "      <td>0.0</td>\n",
       "      <td>20</td>\n",
       "      <td>NaN</td>\n",
       "    </tr>\n",
       "    <tr>\n",
       "      <td>2016-05-09 00:20:00</td>\n",
       "      <td>0.260829</td>\n",
       "      <td>0.985042</td>\n",
       "      <td>0.987875</td>\n",
       "      <td>0.945468</td>\n",
       "      <td>0.989589</td>\n",
       "      <td>0.966633</td>\n",
       "      <td>0.939626</td>\n",
       "      <td>0.137097</td>\n",
       "      <td>0.932069</td>\n",
       "      <td>0.983362</td>\n",
       "      <td>...</td>\n",
       "      <td>0.979208</td>\n",
       "      <td>0.93927</td>\n",
       "      <td>0.984414</td>\n",
       "      <td>0.920856</td>\n",
       "      <td>0.929752</td>\n",
       "      <td>0.050965</td>\n",
       "      <td>0.985606</td>\n",
       "      <td>0.0</td>\n",
       "      <td>20</td>\n",
       "      <td>NaN</td>\n",
       "    </tr>\n",
       "    <tr>\n",
       "      <td>2016-05-09 00:30:00</td>\n",
       "      <td>0.261372</td>\n",
       "      <td>0.985042</td>\n",
       "      <td>0.987875</td>\n",
       "      <td>0.945360</td>\n",
       "      <td>0.989697</td>\n",
       "      <td>0.966703</td>\n",
       "      <td>0.939025</td>\n",
       "      <td>0.137097</td>\n",
       "      <td>0.932069</td>\n",
       "      <td>0.983228</td>\n",
       "      <td>...</td>\n",
       "      <td>0.979219</td>\n",
       "      <td>0.93927</td>\n",
       "      <td>0.984414</td>\n",
       "      <td>0.920856</td>\n",
       "      <td>0.929752</td>\n",
       "      <td>0.052314</td>\n",
       "      <td>0.985606</td>\n",
       "      <td>0.0</td>\n",
       "      <td>20</td>\n",
       "      <td>NaN</td>\n",
       "    </tr>\n",
       "    <tr>\n",
       "      <td>2016-05-09 00:40:00</td>\n",
       "      <td>0.260698</td>\n",
       "      <td>0.985042</td>\n",
       "      <td>0.987875</td>\n",
       "      <td>0.945577</td>\n",
       "      <td>0.989046</td>\n",
       "      <td>0.966907</td>\n",
       "      <td>0.939025</td>\n",
       "      <td>0.137097</td>\n",
       "      <td>0.932069</td>\n",
       "      <td>0.982557</td>\n",
       "      <td>...</td>\n",
       "      <td>0.979153</td>\n",
       "      <td>0.93927</td>\n",
       "      <td>0.984414</td>\n",
       "      <td>0.920856</td>\n",
       "      <td>0.929752</td>\n",
       "      <td>0.051551</td>\n",
       "      <td>0.985606</td>\n",
       "      <td>0.0</td>\n",
       "      <td>20</td>\n",
       "      <td>NaN</td>\n",
       "    </tr>\n",
       "  </tbody>\n",
       "</table>\n",
       "<p>5 rows × 85 columns</p>\n",
       "</div>"
      ],
      "text/plain": [
       "                     MLPAP_PI-0658.PV  MLPAP_TI-0716A22  MLPAP_TI-0706B13  \\\n",
       "2016-05-09 00:00:00          0.260688          0.985042          0.987875   \n",
       "2016-05-09 00:10:00          0.260688          0.985042          0.987875   \n",
       "2016-05-09 00:20:00          0.260829          0.985042          0.987875   \n",
       "2016-05-09 00:30:00          0.261372          0.985042          0.987875   \n",
       "2016-05-09 00:40:00          0.260698          0.985042          0.987875   \n",
       "\n",
       "                     MLPAP_TI-0716A03  MLPAP_TI-0706B01  MLPAP_TI-0715B1.PV  \\\n",
       "2016-05-09 00:00:00          0.945361          0.989588            0.966670   \n",
       "2016-05-09 00:10:00          0.945253          0.988825            0.966515   \n",
       "2016-05-09 00:20:00          0.945468          0.989589            0.966633   \n",
       "2016-05-09 00:30:00          0.945360          0.989697            0.966703   \n",
       "2016-05-09 00:40:00          0.945577          0.989046            0.966907   \n",
       "\n",
       "                     MLPAP_PIC-0761.PV  MLPAP_V125-PHD  MLPAP_TI-0706B02  \\\n",
       "2016-05-09 00:00:00           0.939025        0.137097          0.932069   \n",
       "2016-05-09 00:10:00           0.939025        0.137097          0.932069   \n",
       "2016-05-09 00:20:00           0.939626        0.137097          0.932069   \n",
       "2016-05-09 00:30:00           0.939025        0.137097          0.932069   \n",
       "2016-05-09 00:40:00           0.939025        0.137097          0.932069   \n",
       "\n",
       "                     MLPAP_TI-0716A16  ...  MLPAP_TI-0720B1.PV  \\\n",
       "2016-05-09 00:00:00          0.981626  ...            0.979068   \n",
       "2016-05-09 00:10:00          0.981916  ...            0.979286   \n",
       "2016-05-09 00:20:00          0.983362  ...            0.979208   \n",
       "2016-05-09 00:30:00          0.983228  ...            0.979219   \n",
       "2016-05-09 00:40:00          0.982557  ...            0.979153   \n",
       "\n",
       "                     MLPAP_TI-0716A05  MLPAP_TI-0706B24  MLPAP_TI-0706B06  \\\n",
       "2016-05-09 00:00:00           0.93927          0.984414          0.921227   \n",
       "2016-05-09 00:10:00           0.93927          0.984414          0.920856   \n",
       "2016-05-09 00:20:00           0.93927          0.984414          0.920856   \n",
       "2016-05-09 00:30:00           0.93927          0.984414          0.920856   \n",
       "2016-05-09 00:40:00           0.93927          0.984414          0.920856   \n",
       "\n",
       "                     MLPAP_TI-0706B07  MLPAP_LIC-0738.PV  MLPAP_TI-0706B16  \\\n",
       "2016-05-09 00:00:00          0.929752           0.050863          0.985741   \n",
       "2016-05-09 00:10:00          0.929752           0.050591          0.985606   \n",
       "2016-05-09 00:20:00          0.929752           0.050965          0.985606   \n",
       "2016-05-09 00:30:00          0.929752           0.052314          0.985606   \n",
       "2016-05-09 00:40:00          0.929752           0.051551          0.985606   \n",
       "\n",
       "                     MLPAP_LRC-0729.PV  over_range_count  target  \n",
       "2016-05-09 00:00:00                0.0                20     NaN  \n",
       "2016-05-09 00:10:00                0.0                20     NaN  \n",
       "2016-05-09 00:20:00                0.0                20     NaN  \n",
       "2016-05-09 00:30:00                0.0                20     NaN  \n",
       "2016-05-09 00:40:00                0.0                20     NaN  \n",
       "\n",
       "[5 rows x 85 columns]"
      ]
     },
     "execution_count": 119,
     "metadata": {},
     "output_type": "execute_result"
    }
   ],
   "source": [
    "from sklearn.preprocessing import MinMaxScaler\n",
    "\n",
    "x_col = df.drop(['target','over_range_count'],axis=1).columns.tolist()\n",
    "y_col = 'target'\n",
    "\n",
    "mm = MinMaxScaler()\n",
    "df[x_col] = mm.fit_transform(df[x_col])\n",
    "\n",
    "print(df.shape)\n",
    "df.head()"
   ]
  },
  {
   "cell_type": "markdown",
   "metadata": {},
   "source": [
    "# stack time_step"
   ]
  },
  {
   "cell_type": "code",
   "execution_count": 120,
   "metadata": {},
   "outputs": [],
   "source": [
    "def train_windows(df, ref_day):\n",
    "    X_train, Y_train, i_lst = [], [], []\n",
    "    for i in tqdm(range(len(df)-ref_day)):\n",
    "        start,end = i,i+ref_day\n",
    "        C1 = (df.iloc[start:end+1]['target'].isnull().sum() == 0) # 時間段內所有y都正常\n",
    "        C2 = (df.iloc[start:end+1]['over_range_count'].mean() <= threshold) # 時間段內X平均來看並不超過閥值\n",
    "        if C1&C2: \n",
    "            X_train.append(df.iloc[start:end+1][x_col].values) #X是一個 2Darray\n",
    "            Y_train.append(df.iloc[end][y_col]) # target是一個 標量\n",
    "            i_lst.append(df.iloc[[end]].index[0]) #target對應的 時間\n",
    "    # 重整格式\n",
    "    X_train = np.array(X_train) #一個3Darray\n",
    "    Y_train = pd.Series(Y_train,index=i_lst,name='y') #一個時間序列\n",
    "    return X_train, Y_train, i_lst"
   ]
  },
  {
   "cell_type": "code",
   "execution_count": 121,
   "metadata": {},
   "outputs": [
    {
     "data": {
      "application/vnd.jupyter.widget-view+json": {
       "model_id": "7259f919dab9419ba48ff74fb5513fc9",
       "version_major": 2,
       "version_minor": 0
      },
      "text/plain": [
       "HBox(children=(IntProgress(value=0, max=193819), HTML(value='')))"
      ]
     },
     "metadata": {},
     "output_type": "display_data"
    },
    {
     "name": "stdout",
     "output_type": "stream",
     "text": [
      "\n",
      "(130922, 6, 83) (130922,) 130922\n"
     ]
    }
   ],
   "source": [
    "X, y ,i_lst = train_windows(df,ref_day=5)\n",
    "print(X.shape,y.shape,len(i_lst))"
   ]
  },
  {
   "cell_type": "markdown",
   "metadata": {},
   "source": [
    "# save X and y"
   ]
  },
  {
   "cell_type": "code",
   "execution_count": 122,
   "metadata": {},
   "outputs": [
    {
     "data": {
      "text/plain": [
       "['./data/dataset_for_cnn_model']"
      ]
     },
     "execution_count": 122,
     "metadata": {},
     "output_type": "execute_result"
    }
   ],
   "source": [
    "dataset = {}\n",
    "dataset['X'] = X\n",
    "dataset['y'] = y\n",
    "dataset['index'] = i_lst\n",
    "\n",
    "joblib.dump(dataset,'./data/dataset_for_cnn_model')"
   ]
  },
  {
   "cell_type": "code",
   "execution_count": null,
   "metadata": {},
   "outputs": [],
   "source": []
  }
 ],
 "metadata": {
  "kernelspec": {
   "display_name": "Python 3",
   "language": "python",
   "name": "python3"
  },
  "language_info": {
   "codemirror_mode": {
    "name": "ipython",
    "version": 3
   },
   "file_extension": ".py",
   "mimetype": "text/x-python",
   "name": "python",
   "nbconvert_exporter": "python",
   "pygments_lexer": "ipython3",
   "version": "3.7.4"
  }
 },
 "nbformat": 4,
 "nbformat_minor": 2
}
