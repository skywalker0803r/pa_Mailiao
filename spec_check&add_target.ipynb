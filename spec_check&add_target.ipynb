{
 "cells": [
  {
   "cell_type": "code",
   "execution_count": 1,
   "metadata": {},
   "outputs": [
    {
     "data": {
      "text/plain": [
       "['train_spec_checked(2016~2017).csv',\n",
       " 'train_FeatureSelected(2016~2017).csv',\n",
       " 'train_KnnFilled(2017~2018).csv',\n",
       " 'train_KnnFilled(2016~2017).csv',\n",
       " 'train_KnnFilled(2018~2019).csv',\n",
       " 'train_KnnFilled(full).csv',\n",
       " 'train_spec_checked(full).csv']"
      ]
     },
     "execution_count": 1,
     "metadata": {},
     "output_type": "execute_result"
    }
   ],
   "source": [
    "import os\n",
    "os.listdir('./data')"
   ]
  },
  {
   "cell_type": "code",
   "execution_count": 2,
   "metadata": {},
   "outputs": [],
   "source": [
    "import pandas as pd\n",
    "import matplotlib.pyplot as plt\n",
    "import numpy as np\n",
    "import seaborn as sns\n",
    "import collections\n",
    "from tqdm import tqdm_notebook as tqdm"
   ]
  },
  {
   "cell_type": "markdown",
   "metadata": {},
   "source": [
    "# load df"
   ]
  },
  {
   "cell_type": "code",
   "execution_count": 3,
   "metadata": {},
   "outputs": [],
   "source": [
    "file_path = './data/train_KnnFilled(full).csv'"
   ]
  },
  {
   "cell_type": "code",
   "execution_count": 4,
   "metadata": {},
   "outputs": [
    {
     "name": "stdout",
     "output_type": "stream",
     "text": [
      "(193824, 93)\n"
     ]
    },
    {
     "data": {
      "text/html": [
       "<div>\n",
       "<style scoped>\n",
       "    .dataframe tbody tr th:only-of-type {\n",
       "        vertical-align: middle;\n",
       "    }\n",
       "\n",
       "    .dataframe tbody tr th {\n",
       "        vertical-align: top;\n",
       "    }\n",
       "\n",
       "    .dataframe thead th {\n",
       "        text-align: right;\n",
       "    }\n",
       "</style>\n",
       "<table border=\"1\" class=\"dataframe\">\n",
       "  <thead>\n",
       "    <tr style=\"text-align: right;\">\n",
       "      <th></th>\n",
       "      <th>MLPAP_TI-0706B02</th>\n",
       "      <th>MLPAP_TI-0706B03</th>\n",
       "      <th>MLPAP_TI-0706B04</th>\n",
       "      <th>MLPAP_TI-0706B05</th>\n",
       "      <th>MLPAP_TI-0706B06</th>\n",
       "      <th>MLPAP_TI-0706B07</th>\n",
       "      <th>MLPAP_TI-0706B08</th>\n",
       "      <th>MLPAP_TI-0706B09</th>\n",
       "      <th>MLPAP_TI-0706B10</th>\n",
       "      <th>MLPAP_TI-0706B11</th>\n",
       "      <th>...</th>\n",
       "      <th>MLPAP_FQI-0997.PV</th>\n",
       "      <th>DATA OF USE</th>\n",
       "      <th>MLPAP_FR-0755.PV</th>\n",
       "      <th>MLPAP_FR-0755PV(轉換後)</th>\n",
       "      <th>MLPAP_FR-0791.PV</th>\n",
       "      <th>MLPAP_FI-V211.PV</th>\n",
       "      <th>MLPAP_FI-V211.PV(轉換後)</th>\n",
       "      <th>MLPAP_PI-0658.PV</th>\n",
       "      <th>MLPAP_TIC-0757.PV</th>\n",
       "      <th>MLPAP_V125-PHD</th>\n",
       "    </tr>\n",
       "  </thead>\n",
       "  <tbody>\n",
       "    <tr>\n",
       "      <th>2016-05-09 00:00:00</th>\n",
       "      <td>399.996956</td>\n",
       "      <td>401.962157</td>\n",
       "      <td>400.757148</td>\n",
       "      <td>402.245915</td>\n",
       "      <td>401.143639</td>\n",
       "      <td>400.998932</td>\n",
       "      <td>400.048649</td>\n",
       "      <td>402.996307</td>\n",
       "      <td>402.001481</td>\n",
       "      <td>400.999089</td>\n",
       "      <td>...</td>\n",
       "      <td>-0.026063</td>\n",
       "      <td>3.342795</td>\n",
       "      <td>4.050917</td>\n",
       "      <td>4.045456</td>\n",
       "      <td>6.484379</td>\n",
       "      <td>0.089541</td>\n",
       "      <td>0.08942</td>\n",
       "      <td>-1.007740</td>\n",
       "      <td>1.635430</td>\n",
       "      <td>0.050999</td>\n",
       "    </tr>\n",
       "    <tr>\n",
       "      <th>2016-05-09 00:10:00</th>\n",
       "      <td>399.996956</td>\n",
       "      <td>401.939352</td>\n",
       "      <td>400.954632</td>\n",
       "      <td>402.245915</td>\n",
       "      <td>401.004025</td>\n",
       "      <td>400.998932</td>\n",
       "      <td>400.244686</td>\n",
       "      <td>402.996307</td>\n",
       "      <td>402.001481</td>\n",
       "      <td>400.999089</td>\n",
       "      <td>...</td>\n",
       "      <td>-0.026063</td>\n",
       "      <td>3.342795</td>\n",
       "      <td>4.157893</td>\n",
       "      <td>4.152288</td>\n",
       "      <td>6.449854</td>\n",
       "      <td>0.089541</td>\n",
       "      <td>0.08942</td>\n",
       "      <td>-1.007740</td>\n",
       "      <td>1.624784</td>\n",
       "      <td>0.050999</td>\n",
       "    </tr>\n",
       "    <tr>\n",
       "      <th>2016-05-09 00:20:00</th>\n",
       "      <td>399.996956</td>\n",
       "      <td>401.905143</td>\n",
       "      <td>400.896549</td>\n",
       "      <td>402.104563</td>\n",
       "      <td>401.004025</td>\n",
       "      <td>400.998932</td>\n",
       "      <td>400.094776</td>\n",
       "      <td>402.996307</td>\n",
       "      <td>402.001481</td>\n",
       "      <td>400.999089</td>\n",
       "      <td>...</td>\n",
       "      <td>-0.026063</td>\n",
       "      <td>3.342795</td>\n",
       "      <td>4.207893</td>\n",
       "      <td>4.202220</td>\n",
       "      <td>6.440330</td>\n",
       "      <td>0.089541</td>\n",
       "      <td>0.08942</td>\n",
       "      <td>-0.905851</td>\n",
       "      <td>1.649624</td>\n",
       "      <td>0.050999</td>\n",
       "    </tr>\n",
       "    <tr>\n",
       "      <th>2016-05-09 00:30:00</th>\n",
       "      <td>399.996956</td>\n",
       "      <td>401.950754</td>\n",
       "      <td>400.896549</td>\n",
       "      <td>402.304812</td>\n",
       "      <td>401.004025</td>\n",
       "      <td>400.998932</td>\n",
       "      <td>400.140902</td>\n",
       "      <td>402.996307</td>\n",
       "      <td>402.001481</td>\n",
       "      <td>400.999089</td>\n",
       "      <td>...</td>\n",
       "      <td>-0.026063</td>\n",
       "      <td>3.342795</td>\n",
       "      <td>4.152079</td>\n",
       "      <td>4.146482</td>\n",
       "      <td>6.464140</td>\n",
       "      <td>0.089541</td>\n",
       "      <td>0.08942</td>\n",
       "      <td>-0.518671</td>\n",
       "      <td>1.635430</td>\n",
       "      <td>0.050999</td>\n",
       "    </tr>\n",
       "    <tr>\n",
       "      <th>2016-05-09 00:40:00</th>\n",
       "      <td>399.996956</td>\n",
       "      <td>401.996366</td>\n",
       "      <td>400.850082</td>\n",
       "      <td>402.175239</td>\n",
       "      <td>401.004025</td>\n",
       "      <td>400.998932</td>\n",
       "      <td>400.406128</td>\n",
       "      <td>402.996307</td>\n",
       "      <td>402.001481</td>\n",
       "      <td>400.999089</td>\n",
       "      <td>...</td>\n",
       "      <td>-0.026063</td>\n",
       "      <td>3.342795</td>\n",
       "      <td>4.016615</td>\n",
       "      <td>4.011200</td>\n",
       "      <td>6.415329</td>\n",
       "      <td>0.089541</td>\n",
       "      <td>0.08942</td>\n",
       "      <td>-0.987362</td>\n",
       "      <td>1.653172</td>\n",
       "      <td>0.050999</td>\n",
       "    </tr>\n",
       "  </tbody>\n",
       "</table>\n",
       "<p>5 rows × 93 columns</p>\n",
       "</div>"
      ],
      "text/plain": [
       "                     MLPAP_TI-0706B02  MLPAP_TI-0706B03  MLPAP_TI-0706B04  \\\n",
       "2016-05-09 00:00:00        399.996956        401.962157        400.757148   \n",
       "2016-05-09 00:10:00        399.996956        401.939352        400.954632   \n",
       "2016-05-09 00:20:00        399.996956        401.905143        400.896549   \n",
       "2016-05-09 00:30:00        399.996956        401.950754        400.896549   \n",
       "2016-05-09 00:40:00        399.996956        401.996366        400.850082   \n",
       "\n",
       "                     MLPAP_TI-0706B05  MLPAP_TI-0706B06  MLPAP_TI-0706B07  \\\n",
       "2016-05-09 00:00:00        402.245915        401.143639        400.998932   \n",
       "2016-05-09 00:10:00        402.245915        401.004025        400.998932   \n",
       "2016-05-09 00:20:00        402.104563        401.004025        400.998932   \n",
       "2016-05-09 00:30:00        402.304812        401.004025        400.998932   \n",
       "2016-05-09 00:40:00        402.175239        401.004025        400.998932   \n",
       "\n",
       "                     MLPAP_TI-0706B08  MLPAP_TI-0706B09  MLPAP_TI-0706B10  \\\n",
       "2016-05-09 00:00:00        400.048649        402.996307        402.001481   \n",
       "2016-05-09 00:10:00        400.244686        402.996307        402.001481   \n",
       "2016-05-09 00:20:00        400.094776        402.996307        402.001481   \n",
       "2016-05-09 00:30:00        400.140902        402.996307        402.001481   \n",
       "2016-05-09 00:40:00        400.406128        402.996307        402.001481   \n",
       "\n",
       "                     MLPAP_TI-0706B11  ...  MLPAP_FQI-0997.PV  DATA OF USE  \\\n",
       "2016-05-09 00:00:00        400.999089  ...          -0.026063     3.342795   \n",
       "2016-05-09 00:10:00        400.999089  ...          -0.026063     3.342795   \n",
       "2016-05-09 00:20:00        400.999089  ...          -0.026063     3.342795   \n",
       "2016-05-09 00:30:00        400.999089  ...          -0.026063     3.342795   \n",
       "2016-05-09 00:40:00        400.999089  ...          -0.026063     3.342795   \n",
       "\n",
       "                     MLPAP_FR-0755.PV  MLPAP_FR-0755PV(轉換後)  MLPAP_FR-0791.PV  \\\n",
       "2016-05-09 00:00:00          4.050917              4.045456          6.484379   \n",
       "2016-05-09 00:10:00          4.157893              4.152288          6.449854   \n",
       "2016-05-09 00:20:00          4.207893              4.202220          6.440330   \n",
       "2016-05-09 00:30:00          4.152079              4.146482          6.464140   \n",
       "2016-05-09 00:40:00          4.016615              4.011200          6.415329   \n",
       "\n",
       "                     MLPAP_FI-V211.PV  MLPAP_FI-V211.PV(轉換後)  \\\n",
       "2016-05-09 00:00:00          0.089541                0.08942   \n",
       "2016-05-09 00:10:00          0.089541                0.08942   \n",
       "2016-05-09 00:20:00          0.089541                0.08942   \n",
       "2016-05-09 00:30:00          0.089541                0.08942   \n",
       "2016-05-09 00:40:00          0.089541                0.08942   \n",
       "\n",
       "                     MLPAP_PI-0658.PV  MLPAP_TIC-0757.PV  MLPAP_V125-PHD  \n",
       "2016-05-09 00:00:00         -1.007740           1.635430        0.050999  \n",
       "2016-05-09 00:10:00         -1.007740           1.624784        0.050999  \n",
       "2016-05-09 00:20:00         -0.905851           1.649624        0.050999  \n",
       "2016-05-09 00:30:00         -0.518671           1.635430        0.050999  \n",
       "2016-05-09 00:40:00         -0.987362           1.653172        0.050999  \n",
       "\n",
       "[5 rows x 93 columns]"
      ]
     },
     "execution_count": 4,
     "metadata": {},
     "output_type": "execute_result"
    }
   ],
   "source": [
    "df = pd.read_csv(file_path, index_col = 0, parse_dates = True)\n",
    "print(df.shape)\n",
    "df.head()"
   ]
  },
  {
   "cell_type": "markdown",
   "metadata": {},
   "source": [
    "# spec"
   ]
  },
  {
   "cell_type": "code",
   "execution_count": 5,
   "metadata": {},
   "outputs": [
    {
     "name": "stdout",
     "output_type": "stream",
     "text": [
      "67\n",
      "保留的欄位\n"
     ]
    },
    {
     "data": {
      "text/html": [
       "<div>\n",
       "<style scoped>\n",
       "    .dataframe tbody tr th:only-of-type {\n",
       "        vertical-align: middle;\n",
       "    }\n",
       "\n",
       "    .dataframe tbody tr th {\n",
       "        vertical-align: top;\n",
       "    }\n",
       "\n",
       "    .dataframe thead th {\n",
       "        text-align: right;\n",
       "    }\n",
       "</style>\n",
       "<table border=\"1\" class=\"dataframe\">\n",
       "  <thead>\n",
       "    <tr style=\"text-align: right;\">\n",
       "      <th></th>\n",
       "      <th>chinese</th>\n",
       "      <th>min</th>\n",
       "      <th>max</th>\n",
       "    </tr>\n",
       "    <tr>\n",
       "      <th>TAG</th>\n",
       "      <th></th>\n",
       "      <th></th>\n",
       "      <th></th>\n",
       "    </tr>\n",
       "  </thead>\n",
       "  <tbody>\n",
       "    <tr>\n",
       "      <th>MLPAP_TJC-0627.PV</th>\n",
       "      <td>OX預熱器出口溫度</td>\n",
       "      <td>140</td>\n",
       "      <td>160</td>\n",
       "    </tr>\n",
       "    <tr>\n",
       "      <th>MLPAP_TRC-0610.PV</th>\n",
       "      <td>空氣預熱器出口溫度</td>\n",
       "      <td>160</td>\n",
       "      <td>200</td>\n",
       "    </tr>\n",
       "    <tr>\n",
       "      <th>MLPAP_FR-0632.PV</th>\n",
       "      <td>汽機風量</td>\n",
       "      <td>30</td>\n",
       "      <td>90</td>\n",
       "    </tr>\n",
       "    <tr>\n",
       "      <th>MLPAP_FQ-0619.PV</th>\n",
       "      <td>OX入料量</td>\n",
       "      <td>2000</td>\n",
       "      <td>8000</td>\n",
       "    </tr>\n",
       "    <tr>\n",
       "      <th>MLPAP_TIC-0757A.PV</th>\n",
       "      <td>反應槽鹽浴溫度</td>\n",
       "      <td>345</td>\n",
       "      <td>365</td>\n",
       "    </tr>\n",
       "    <tr>\n",
       "      <th>...</th>\n",
       "      <td>...</td>\n",
       "      <td>...</td>\n",
       "      <td>...</td>\n",
       "    </tr>\n",
       "    <tr>\n",
       "      <th>MLPAP_TJR-0762B1.PV</th>\n",
       "      <td>鹽浴溫度</td>\n",
       "      <td>345</td>\n",
       "      <td>375</td>\n",
       "    </tr>\n",
       "    <tr>\n",
       "      <th>MLPAP_TJR-0762B2.PV</th>\n",
       "      <td>鹽浴溫度</td>\n",
       "      <td>345</td>\n",
       "      <td>375</td>\n",
       "    </tr>\n",
       "    <tr>\n",
       "      <th>MLPAP_PI-0658.PV</th>\n",
       "      <td>反應器入口壓力</td>\n",
       "      <td>200</td>\n",
       "      <td>500</td>\n",
       "    </tr>\n",
       "    <tr>\n",
       "      <th>MLPAP_TIC-0757.PV</th>\n",
       "      <td>反應器A/B側鹽浴溫度差</td>\n",
       "      <td>-3</td>\n",
       "      <td>3</td>\n",
       "    </tr>\n",
       "    <tr>\n",
       "      <th>MLPAP_V125-PHD</th>\n",
       "      <td>粗PA儲槽PHD</td>\n",
       "      <td>0</td>\n",
       "      <td>0.1</td>\n",
       "    </tr>\n",
       "  </tbody>\n",
       "</table>\n",
       "<p>67 rows × 3 columns</p>\n",
       "</div>"
      ],
      "text/plain": [
       "                          chinese   min   max\n",
       "TAG                                          \n",
       "MLPAP_TJC-0627.PV       OX預熱器出口溫度   140   160\n",
       "MLPAP_TRC-0610.PV       空氣預熱器出口溫度   160   200\n",
       "MLPAP_FR-0632.PV             汽機風量    30    90\n",
       "MLPAP_FQ-0619.PV            OX入料量  2000  8000\n",
       "MLPAP_TIC-0757A.PV        反應槽鹽浴溫度   345   365\n",
       "...                           ...   ...   ...\n",
       "MLPAP_TJR-0762B1.PV          鹽浴溫度   345   375\n",
       "MLPAP_TJR-0762B2.PV          鹽浴溫度   345   375\n",
       "MLPAP_PI-0658.PV          反應器入口壓力   200   500\n",
       "MLPAP_TIC-0757.PV    反應器A/B側鹽浴溫度差    -3     3\n",
       "MLPAP_V125-PHD           粗PA儲槽PHD     0   0.1\n",
       "\n",
       "[67 rows x 3 columns]"
      ]
     },
     "execution_count": 5,
     "metadata": {},
     "output_type": "execute_result"
    }
   ],
   "source": [
    "tag_sheet = pd.read_excel('tag盤點表.xlsx')\n",
    "intersection = set(tag_sheet['TAG'].values)&set(df.columns.tolist())\n",
    "spec = tag_sheet[tag_sheet['TAG'].isin(intersection)][['TAG','chinese','min','max']].set_index('TAG')\n",
    "spec.loc['DATA OF USE','min'],spec.loc['DATA OF USE','max'] = 0,np.inf\n",
    "print(spec.shape[0])\n",
    "print(\"保留的欄位\")\n",
    "spec"
   ]
  },
  {
   "cell_type": "code",
   "execution_count": 6,
   "metadata": {},
   "outputs": [
    {
     "name": "stdout",
     "output_type": "stream",
     "text": [
      "(193824, 67)\n"
     ]
    }
   ],
   "source": [
    "df = df[spec.index.tolist()]\n",
    "print(df.shape)"
   ]
  },
  {
   "cell_type": "markdown",
   "metadata": {},
   "source": [
    "# column filter"
   ]
  },
  {
   "cell_type": "code",
   "execution_count": 7,
   "metadata": {},
   "outputs": [],
   "source": [
    "def check_spec_col(df,spec):\n",
    "    count = collections.defaultdict(int)\n",
    "    intersection = set(list(df.columns))&set(list(spec.index))\n",
    "    for col in tqdm(list(intersection)):\n",
    "        lb, ub = spec.loc[col,'min'], spec.loc[col,'max']\n",
    "        over_range = (df[col]<lb)|(df[col]>ub)\n",
    "        count[col] += over_range.sum()\n",
    "    return pd.DataFrame(count.values(),index=count.keys(),columns=['count'])['count']"
   ]
  },
  {
   "cell_type": "code",
   "execution_count": 8,
   "metadata": {},
   "outputs": [
    {
     "name": "stderr",
     "output_type": "stream",
     "text": [
      "/workspace/conda/lib/python3.6/site-packages/ipykernel_launcher.py:4: TqdmDeprecationWarning: This function will be removed in tqdm==5.0.0\n",
      "Please use `tqdm.notebook.tqdm` instead of `tqdm.tqdm_notebook`\n",
      "  after removing the cwd from sys.path.\n"
     ]
    },
    {
     "data": {
      "application/vnd.jupyter.widget-view+json": {
       "model_id": "f45b92c5617b4e229e40eda71cae6472",
       "version_major": 2,
       "version_minor": 0
      },
      "text/plain": [
       "HBox(children=(FloatProgress(value=0.0, max=67.0), HTML(value='')))"
      ]
     },
     "metadata": {},
     "output_type": "display_data"
    },
    {
     "name": "stdout",
     "output_type": "stream",
     "text": [
      "\n"
     ]
    },
    {
     "data": {
      "text/plain": [
       "MLPAP_TI-0706B03        42917\n",
       "MLPAP_TI-0706B07        42957\n",
       "MLPAP_TI-0706B20        43013\n",
       "MLPAP_TI-0706C01        47122\n",
       "MLPAP_TI-0706B14        42826\n",
       "                        ...  \n",
       "MLPAP_TI-0706B21        43431\n",
       "MLPAP_LRC-0729.PV       46273\n",
       "MLPAP_PIC-0741.PV      160788\n",
       "MLPAP_TJR-0715A1.PV     42870\n",
       "MLPAP_TJR-0721.PV      122055\n",
       "Name: count, Length: 67, dtype: int64"
      ]
     },
     "execution_count": 8,
     "metadata": {},
     "output_type": "execute_result"
    }
   ],
   "source": [
    "count = check_spec_col(df,spec)\n",
    "count"
   ]
  },
  {
   "cell_type": "code",
   "execution_count": 9,
   "metadata": {},
   "outputs": [
    {
     "data": {
      "image/png": "[encoded data removed]",
      "text/plain": [
       "<Figure size 432x288 with 1 Axes>"
      ]
     },
     "metadata": {
      "needs_background": "light"
     },
     "output_type": "display_data"
    }
   ],
   "source": [
    "sns.distplot(count)\n",
    "plt.show()"
   ]
  },
  {
   "cell_type": "code",
   "execution_count": 10,
   "metadata": {},
   "outputs": [
    {
     "name": "stdout",
     "output_type": "stream",
     "text": [
      "43015.0\n"
     ]
    }
   ],
   "source": [
    "theshold = count.median()\n",
    "print(theshold)"
   ]
  },
  {
   "cell_type": "code",
   "execution_count": 11,
   "metadata": {},
   "outputs": [
    {
     "data": {
      "text/plain": [
       "(193824, 35)"
      ]
     },
     "execution_count": 11,
     "metadata": {},
     "output_type": "execute_result"
    }
   ],
   "source": [
    "remain_col = count.loc[count<theshold].index.tolist()\n",
    "y_col = ['MLPAP_FQ-0619.PV','MLPAP_FQI-0997.PV']\n",
    "remain_col = list(set(remain_col)|set(y_col)) \n",
    "df = df[remain_col]\n",
    "df.shape"
   ]
  },
  {
   "cell_type": "code",
   "execution_count": 12,
   "metadata": {},
   "outputs": [
    {
     "data": {
      "text/html": [
       "<div>\n",
       "<style scoped>\n",
       "    .dataframe tbody tr th:only-of-type {\n",
       "        vertical-align: middle;\n",
       "    }\n",
       "\n",
       "    .dataframe tbody tr th {\n",
       "        vertical-align: top;\n",
       "    }\n",
       "\n",
       "    .dataframe thead th {\n",
       "        text-align: right;\n",
       "    }\n",
       "</style>\n",
       "<table border=\"1\" class=\"dataframe\">\n",
       "  <thead>\n",
       "    <tr style=\"text-align: right;\">\n",
       "      <th></th>\n",
       "      <th>chinese</th>\n",
       "      <th>min</th>\n",
       "      <th>max</th>\n",
       "    </tr>\n",
       "    <tr>\n",
       "      <th>TAG</th>\n",
       "      <th></th>\n",
       "      <th></th>\n",
       "      <th></th>\n",
       "    </tr>\n",
       "  </thead>\n",
       "  <tbody>\n",
       "    <tr>\n",
       "      <th>MLPAP_TRC-0610.PV</th>\n",
       "      <td>空氣預熱器出口溫度</td>\n",
       "      <td>160</td>\n",
       "      <td>200</td>\n",
       "    </tr>\n",
       "    <tr>\n",
       "      <th>MLPAP_FQ-0619.PV</th>\n",
       "      <td>OX入料量</td>\n",
       "      <td>2000</td>\n",
       "      <td>8000</td>\n",
       "    </tr>\n",
       "    <tr>\n",
       "      <th>MLPAP_LIC-0738.PV</th>\n",
       "      <td>汽鼓(V211)鍋爐水液位</td>\n",
       "      <td>20</td>\n",
       "      <td>60</td>\n",
       "    </tr>\n",
       "    <tr>\n",
       "      <th>MLPAP_PIC-0761.PV</th>\n",
       "      <td>鹽浴冷卻器(E112)出口壓力</td>\n",
       "      <td>40</td>\n",
       "      <td>55</td>\n",
       "    </tr>\n",
       "    <tr>\n",
       "      <th>MLPAP_TIC-1721.PV</th>\n",
       "      <td>轉換式冷凝器冷油溫度</td>\n",
       "      <td>55</td>\n",
       "      <td>68</td>\n",
       "    </tr>\n",
       "    <tr>\n",
       "      <th>MLPAP_TRC-1734.PV</th>\n",
       "      <td>轉換式冷凝器熱油溫度</td>\n",
       "      <td>160</td>\n",
       "      <td>200</td>\n",
       "    </tr>\n",
       "    <tr>\n",
       "      <th>MLPAP_TI-0706A01</th>\n",
       "      <td>反應槽觸媒溫度(CL1)_高度(1900)</td>\n",
       "      <td>340</td>\n",
       "      <td>450</td>\n",
       "    </tr>\n",
       "    <tr>\n",
       "      <th>MLPAP_TI-0706E01</th>\n",
       "      <td>反應槽觸媒溫度(CL1)_高度(1310)</td>\n",
       "      <td>340</td>\n",
       "      <td>450</td>\n",
       "    </tr>\n",
       "    <tr>\n",
       "      <th>MLPAP_TI-0716D01</th>\n",
       "      <td>反應槽觸媒溫度_高度(1650)</td>\n",
       "      <td>340</td>\n",
       "      <td>450</td>\n",
       "    </tr>\n",
       "    <tr>\n",
       "      <th>MLPAP_FQI-0997.PV</th>\n",
       "      <td>粗PA出料量</td>\n",
       "      <td>5000</td>\n",
       "      <td>10000</td>\n",
       "    </tr>\n",
       "    <tr>\n",
       "      <th>DATA OF USE</th>\n",
       "      <td>觸媒使用時間</td>\n",
       "      <td>0</td>\n",
       "      <td>inf</td>\n",
       "    </tr>\n",
       "    <tr>\n",
       "      <th>MLPAP_FR-0755.PV</th>\n",
       "      <td>反應槽16K蒸氣輸出</td>\n",
       "      <td>0</td>\n",
       "      <td>25</td>\n",
       "    </tr>\n",
       "    <tr>\n",
       "      <th>MLPAP_TI-0706B02</th>\n",
       "      <td>反應槽溫度_多點式(高度 250)</td>\n",
       "      <td>340</td>\n",
       "      <td>450</td>\n",
       "    </tr>\n",
       "    <tr>\n",
       "      <th>MLPAP_TI-0706B03</th>\n",
       "      <td>反應槽溫度_多點式(高度 350)</td>\n",
       "      <td>340</td>\n",
       "      <td>450</td>\n",
       "    </tr>\n",
       "    <tr>\n",
       "      <th>MLPAP_TI-0706B04</th>\n",
       "      <td>反應槽溫度_多點式(高度 450)</td>\n",
       "      <td>340</td>\n",
       "      <td>450</td>\n",
       "    </tr>\n",
       "    <tr>\n",
       "      <th>MLPAP_TI-0706B05</th>\n",
       "      <td>反應槽溫度_多點式(高度 550)</td>\n",
       "      <td>340</td>\n",
       "      <td>450</td>\n",
       "    </tr>\n",
       "    <tr>\n",
       "      <th>MLPAP_TI-0706B06</th>\n",
       "      <td>反應槽溫度_多點式(高度 650)</td>\n",
       "      <td>340</td>\n",
       "      <td>450</td>\n",
       "    </tr>\n",
       "    <tr>\n",
       "      <th>MLPAP_TI-0706B07</th>\n",
       "      <td>反應槽溫度_多點式(高度 750)</td>\n",
       "      <td>340</td>\n",
       "      <td>450</td>\n",
       "    </tr>\n",
       "    <tr>\n",
       "      <th>MLPAP_TI-0706B08</th>\n",
       "      <td>反應槽溫度_多點式(高度 850)</td>\n",
       "      <td>340</td>\n",
       "      <td>450</td>\n",
       "    </tr>\n",
       "    <tr>\n",
       "      <th>MLPAP_TI-0706B09</th>\n",
       "      <td>反應槽溫度_多點式(高度 950)</td>\n",
       "      <td>340</td>\n",
       "      <td>450</td>\n",
       "    </tr>\n",
       "    <tr>\n",
       "      <th>MLPAP_TI-0706B10</th>\n",
       "      <td>反應槽溫度_多點式(高度 1050)</td>\n",
       "      <td>340</td>\n",
       "      <td>450</td>\n",
       "    </tr>\n",
       "    <tr>\n",
       "      <th>MLPAP_TI-0706B11</th>\n",
       "      <td>反應槽溫度_多點式(高度 1150)</td>\n",
       "      <td>340</td>\n",
       "      <td>450</td>\n",
       "    </tr>\n",
       "    <tr>\n",
       "      <th>MLPAP_TI-0706B13</th>\n",
       "      <td>反應槽溫度_多點式(高度 1350)</td>\n",
       "      <td>340</td>\n",
       "      <td>450</td>\n",
       "    </tr>\n",
       "    <tr>\n",
       "      <th>MLPAP_TI-0706B14</th>\n",
       "      <td>反應槽溫度_多點式(高度 1450)</td>\n",
       "      <td>340</td>\n",
       "      <td>450</td>\n",
       "    </tr>\n",
       "    <tr>\n",
       "      <th>MLPAP_TI-0706B16</th>\n",
       "      <td>反應槽溫度_多點式(高度 1650)</td>\n",
       "      <td>340</td>\n",
       "      <td>450</td>\n",
       "    </tr>\n",
       "    <tr>\n",
       "      <th>MLPAP_TI-0706B17</th>\n",
       "      <td>反應槽溫度_多點式(高度 1750)</td>\n",
       "      <td>340</td>\n",
       "      <td>450</td>\n",
       "    </tr>\n",
       "    <tr>\n",
       "      <th>MLPAP_TI-0706B18</th>\n",
       "      <td>反應槽溫度_多點式(高度 1850)</td>\n",
       "      <td>340</td>\n",
       "      <td>450</td>\n",
       "    </tr>\n",
       "    <tr>\n",
       "      <th>MLPAP_TI-0706B19</th>\n",
       "      <td>反應槽溫度_多點式(高度 1950)</td>\n",
       "      <td>340</td>\n",
       "      <td>450</td>\n",
       "    </tr>\n",
       "    <tr>\n",
       "      <th>MLPAP_TI-0706B20</th>\n",
       "      <td>反應槽溫度_多點式(高度 2050)</td>\n",
       "      <td>340</td>\n",
       "      <td>450</td>\n",
       "    </tr>\n",
       "    <tr>\n",
       "      <th>MLPAP_TI-0706B22</th>\n",
       "      <td>反應槽溫度_多點式(高度 2250)</td>\n",
       "      <td>340</td>\n",
       "      <td>450</td>\n",
       "    </tr>\n",
       "    <tr>\n",
       "      <th>MLPAP_TI-0706B23</th>\n",
       "      <td>反應槽溫度_多點式(高度 2350)</td>\n",
       "      <td>340</td>\n",
       "      <td>450</td>\n",
       "    </tr>\n",
       "    <tr>\n",
       "      <th>MLPAP_TI-0706B24</th>\n",
       "      <td>反應槽溫度_多點式(高度 2450)</td>\n",
       "      <td>340</td>\n",
       "      <td>450</td>\n",
       "    </tr>\n",
       "    <tr>\n",
       "      <th>MLPAP_TJR-0715A1.PV</th>\n",
       "      <td>反應槽溫度_多點式(高度 2450)</td>\n",
       "      <td>340</td>\n",
       "      <td>450</td>\n",
       "    </tr>\n",
       "    <tr>\n",
       "      <th>MLPAP_TIC-0757.PV</th>\n",
       "      <td>反應器A/B側鹽浴溫度差</td>\n",
       "      <td>-3</td>\n",
       "      <td>3</td>\n",
       "    </tr>\n",
       "    <tr>\n",
       "      <th>MLPAP_V125-PHD</th>\n",
       "      <td>粗PA儲槽PHD</td>\n",
       "      <td>0</td>\n",
       "      <td>0.1</td>\n",
       "    </tr>\n",
       "  </tbody>\n",
       "</table>\n",
       "</div>"
      ],
      "text/plain": [
       "                                   chinese   min    max\n",
       "TAG                                                    \n",
       "MLPAP_TRC-0610.PV                空氣預熱器出口溫度   160    200\n",
       "MLPAP_FQ-0619.PV                     OX入料量  2000   8000\n",
       "MLPAP_LIC-0738.PV            汽鼓(V211)鍋爐水液位    20     60\n",
       "MLPAP_PIC-0761.PV          鹽浴冷卻器(E112)出口壓力    40     55\n",
       "MLPAP_TIC-1721.PV               轉換式冷凝器冷油溫度    55     68\n",
       "MLPAP_TRC-1734.PV               轉換式冷凝器熱油溫度   160    200\n",
       "MLPAP_TI-0706A01     反應槽觸媒溫度(CL1)_高度(1900)   340    450\n",
       "MLPAP_TI-0706E01     反應槽觸媒溫度(CL1)_高度(1310)   340    450\n",
       "MLPAP_TI-0716D01          反應槽觸媒溫度_高度(1650)   340    450\n",
       "MLPAP_FQI-0997.PV                   粗PA出料量  5000  10000\n",
       "DATA OF USE                         觸媒使用時間     0    inf\n",
       "MLPAP_FR-0755.PV                反應槽16K蒸氣輸出     0     25\n",
       "MLPAP_TI-0706B02         反應槽溫度_多點式(高度 250)   340    450\n",
       "MLPAP_TI-0706B03         反應槽溫度_多點式(高度 350)   340    450\n",
       "MLPAP_TI-0706B04         反應槽溫度_多點式(高度 450)   340    450\n",
       "MLPAP_TI-0706B05         反應槽溫度_多點式(高度 550)   340    450\n",
       "MLPAP_TI-0706B06         反應槽溫度_多點式(高度 650)   340    450\n",
       "MLPAP_TI-0706B07         反應槽溫度_多點式(高度 750)   340    450\n",
       "MLPAP_TI-0706B08         反應槽溫度_多點式(高度 850)   340    450\n",
       "MLPAP_TI-0706B09         反應槽溫度_多點式(高度 950)   340    450\n",
       "MLPAP_TI-0706B10        反應槽溫度_多點式(高度 1050)   340    450\n",
       "MLPAP_TI-0706B11        反應槽溫度_多點式(高度 1150)   340    450\n",
       "MLPAP_TI-0706B13        反應槽溫度_多點式(高度 1350)   340    450\n",
       "MLPAP_TI-0706B14        反應槽溫度_多點式(高度 1450)   340    450\n",
       "MLPAP_TI-0706B16        反應槽溫度_多點式(高度 1650)   340    450\n",
       "MLPAP_TI-0706B17        反應槽溫度_多點式(高度 1750)   340    450\n",
       "MLPAP_TI-0706B18        反應槽溫度_多點式(高度 1850)   340    450\n",
       "MLPAP_TI-0706B19        反應槽溫度_多點式(高度 1950)   340    450\n",
       "MLPAP_TI-0706B20        反應槽溫度_多點式(高度 2050)   340    450\n",
       "MLPAP_TI-0706B22        反應槽溫度_多點式(高度 2250)   340    450\n",
       "MLPAP_TI-0706B23        反應槽溫度_多點式(高度 2350)   340    450\n",
       "MLPAP_TI-0706B24        反應槽溫度_多點式(高度 2450)   340    450\n",
       "MLPAP_TJR-0715A1.PV     反應槽溫度_多點式(高度 2450)   340    450\n",
       "MLPAP_TIC-0757.PV             反應器A/B側鹽浴溫度差    -3      3\n",
       "MLPAP_V125-PHD                    粗PA儲槽PHD     0    0.1"
      ]
     },
     "execution_count": 12,
     "metadata": {},
     "output_type": "execute_result"
    }
   ],
   "source": [
    "spec.loc[spec.index.isin(df.columns)]"
   ]
  },
  {
   "cell_type": "markdown",
   "metadata": {},
   "source": [
    "# OVER RANGE COUNT"
   ]
  },
  {
   "cell_type": "code",
   "execution_count": 13,
   "metadata": {},
   "outputs": [
    {
     "name": "stderr",
     "output_type": "stream",
     "text": [
      "/workspace/conda/lib/python3.6/site-packages/ipykernel_launcher.py:3: TqdmDeprecationWarning: This function will be removed in tqdm==5.0.0\n",
      "Please use `tqdm.notebook.tqdm` instead of `tqdm.tqdm_notebook`\n",
      "  This is separate from the ipykernel package so we can avoid doing imports until\n"
     ]
    },
    {
     "data": {
      "application/vnd.jupyter.widget-view+json": {
       "model_id": "d07472d01b6a4d71ac523c25d74ff1fc",
       "version_major": 2,
       "version_minor": 0
      },
      "text/plain": [
       "HBox(children=(FloatProgress(value=0.0, max=35.0), HTML(value='')))"
      ]
     },
     "metadata": {},
     "output_type": "display_data"
    },
    {
     "name": "stdout",
     "output_type": "stream",
     "text": [
      "\n"
     ]
    },
    {
     "data": {
      "text/html": [
       "<div>\n",
       "<style scoped>\n",
       "    .dataframe tbody tr th:only-of-type {\n",
       "        vertical-align: middle;\n",
       "    }\n",
       "\n",
       "    .dataframe tbody tr th {\n",
       "        vertical-align: top;\n",
       "    }\n",
       "\n",
       "    .dataframe thead th {\n",
       "        text-align: right;\n",
       "    }\n",
       "</style>\n",
       "<table border=\"1\" class=\"dataframe\">\n",
       "  <thead>\n",
       "    <tr style=\"text-align: right;\">\n",
       "      <th></th>\n",
       "      <th>MLPAP_TI-0706B03</th>\n",
       "      <th>MLPAP_TI-0706B07</th>\n",
       "      <th>MLPAP_TI-0706B20</th>\n",
       "      <th>MLPAP_TI-0706B14</th>\n",
       "      <th>MLPAP_LIC-0738.PV</th>\n",
       "      <th>MLPAP_TI-0706B11</th>\n",
       "      <th>MLPAP_TI-0706B19</th>\n",
       "      <th>MLPAP_TIC-0757.PV</th>\n",
       "      <th>DATA OF USE</th>\n",
       "      <th>MLPAP_TI-0706B04</th>\n",
       "      <th>...</th>\n",
       "      <th>MLPAP_TI-0706B23</th>\n",
       "      <th>MLPAP_TI-0706E01</th>\n",
       "      <th>MLPAP_TI-0706B06</th>\n",
       "      <th>MLPAP_TI-0706B17</th>\n",
       "      <th>MLPAP_TI-0706B24</th>\n",
       "      <th>MLPAP_FQ-0619.PV</th>\n",
       "      <th>MLPAP_TRC-0610.PV</th>\n",
       "      <th>MLPAP_FR-0755.PV</th>\n",
       "      <th>MLPAP_TJR-0715A1.PV</th>\n",
       "      <th>over_range_num</th>\n",
       "    </tr>\n",
       "  </thead>\n",
       "  <tbody>\n",
       "    <tr>\n",
       "      <th>2016-05-09 00:00:00</th>\n",
       "      <td>401.962</td>\n",
       "      <td>400.999</td>\n",
       "      <td>400.795</td>\n",
       "      <td>402.998</td>\n",
       "      <td>over_range</td>\n",
       "      <td>400.999</td>\n",
       "      <td>402.999</td>\n",
       "      <td>1.63543</td>\n",
       "      <td>3.34279</td>\n",
       "      <td>400.757</td>\n",
       "      <td>...</td>\n",
       "      <td>400.997</td>\n",
       "      <td>400.995</td>\n",
       "      <td>401.144</td>\n",
       "      <td>401.952</td>\n",
       "      <td>401.998</td>\n",
       "      <td>over_range</td>\n",
       "      <td>over_range</td>\n",
       "      <td>4.05092</td>\n",
       "      <td>402.689</td>\n",
       "      <td>4</td>\n",
       "    </tr>\n",
       "    <tr>\n",
       "      <th>2016-05-09 00:10:00</th>\n",
       "      <td>401.939</td>\n",
       "      <td>400.999</td>\n",
       "      <td>400.795</td>\n",
       "      <td>403.099</td>\n",
       "      <td>over_range</td>\n",
       "      <td>400.999</td>\n",
       "      <td>402.999</td>\n",
       "      <td>1.62478</td>\n",
       "      <td>3.34279</td>\n",
       "      <td>400.955</td>\n",
       "      <td>...</td>\n",
       "      <td>400.997</td>\n",
       "      <td>400.995</td>\n",
       "      <td>401.004</td>\n",
       "      <td>401.83</td>\n",
       "      <td>401.998</td>\n",
       "      <td>over_range</td>\n",
       "      <td>over_range</td>\n",
       "      <td>4.15789</td>\n",
       "      <td>402.779</td>\n",
       "      <td>4</td>\n",
       "    </tr>\n",
       "    <tr>\n",
       "      <th>2016-05-09 00:20:00</th>\n",
       "      <td>401.905</td>\n",
       "      <td>400.999</td>\n",
       "      <td>400.752</td>\n",
       "      <td>402.998</td>\n",
       "      <td>over_range</td>\n",
       "      <td>400.999</td>\n",
       "      <td>402.999</td>\n",
       "      <td>1.64962</td>\n",
       "      <td>3.34279</td>\n",
       "      <td>400.897</td>\n",
       "      <td>...</td>\n",
       "      <td>400.997</td>\n",
       "      <td>400.995</td>\n",
       "      <td>401.004</td>\n",
       "      <td>401.764</td>\n",
       "      <td>401.998</td>\n",
       "      <td>over_range</td>\n",
       "      <td>over_range</td>\n",
       "      <td>4.20789</td>\n",
       "      <td>402.729</td>\n",
       "      <td>4</td>\n",
       "    </tr>\n",
       "    <tr>\n",
       "      <th>2016-05-09 00:30:00</th>\n",
       "      <td>401.951</td>\n",
       "      <td>400.999</td>\n",
       "      <td>400.949</td>\n",
       "      <td>403.099</td>\n",
       "      <td>over_range</td>\n",
       "      <td>400.999</td>\n",
       "      <td>402.999</td>\n",
       "      <td>1.63543</td>\n",
       "      <td>3.34279</td>\n",
       "      <td>400.897</td>\n",
       "      <td>...</td>\n",
       "      <td>400.997</td>\n",
       "      <td>400.995</td>\n",
       "      <td>401.004</td>\n",
       "      <td>401.996</td>\n",
       "      <td>401.998</td>\n",
       "      <td>over_range</td>\n",
       "      <td>over_range</td>\n",
       "      <td>4.15208</td>\n",
       "      <td>403.166</td>\n",
       "      <td>4</td>\n",
       "    </tr>\n",
       "    <tr>\n",
       "      <th>2016-05-09 00:40:00</th>\n",
       "      <td>401.996</td>\n",
       "      <td>400.999</td>\n",
       "      <td>401.004</td>\n",
       "      <td>403.099</td>\n",
       "      <td>over_range</td>\n",
       "      <td>400.999</td>\n",
       "      <td>402.999</td>\n",
       "      <td>1.65317</td>\n",
       "      <td>3.34279</td>\n",
       "      <td>400.85</td>\n",
       "      <td>...</td>\n",
       "      <td>400.997</td>\n",
       "      <td>400.995</td>\n",
       "      <td>401.004</td>\n",
       "      <td>401.709</td>\n",
       "      <td>401.998</td>\n",
       "      <td>over_range</td>\n",
       "      <td>over_range</td>\n",
       "      <td>4.01662</td>\n",
       "      <td>403.017</td>\n",
       "      <td>4</td>\n",
       "    </tr>\n",
       "  </tbody>\n",
       "</table>\n",
       "<p>5 rows × 36 columns</p>\n",
       "</div>"
      ],
      "text/plain": [
       "                    MLPAP_TI-0706B03 MLPAP_TI-0706B07 MLPAP_TI-0706B20  \\\n",
       "2016-05-09 00:00:00          401.962          400.999          400.795   \n",
       "2016-05-09 00:10:00          401.939          400.999          400.795   \n",
       "2016-05-09 00:20:00          401.905          400.999          400.752   \n",
       "2016-05-09 00:30:00          401.951          400.999          400.949   \n",
       "2016-05-09 00:40:00          401.996          400.999          401.004   \n",
       "\n",
       "                    MLPAP_TI-0706B14 MLPAP_LIC-0738.PV MLPAP_TI-0706B11  \\\n",
       "2016-05-09 00:00:00          402.998        over_range          400.999   \n",
       "2016-05-09 00:10:00          403.099        over_range          400.999   \n",
       "2016-05-09 00:20:00          402.998        over_range          400.999   \n",
       "2016-05-09 00:30:00          403.099        over_range          400.999   \n",
       "2016-05-09 00:40:00          403.099        over_range          400.999   \n",
       "\n",
       "                    MLPAP_TI-0706B19 MLPAP_TIC-0757.PV DATA OF USE  \\\n",
       "2016-05-09 00:00:00          402.999           1.63543     3.34279   \n",
       "2016-05-09 00:10:00          402.999           1.62478     3.34279   \n",
       "2016-05-09 00:20:00          402.999           1.64962     3.34279   \n",
       "2016-05-09 00:30:00          402.999           1.63543     3.34279   \n",
       "2016-05-09 00:40:00          402.999           1.65317     3.34279   \n",
       "\n",
       "                    MLPAP_TI-0706B04  ... MLPAP_TI-0706B23 MLPAP_TI-0706E01  \\\n",
       "2016-05-09 00:00:00          400.757  ...          400.997          400.995   \n",
       "2016-05-09 00:10:00          400.955  ...          400.997          400.995   \n",
       "2016-05-09 00:20:00          400.897  ...          400.997          400.995   \n",
       "2016-05-09 00:30:00          400.897  ...          400.997          400.995   \n",
       "2016-05-09 00:40:00           400.85  ...          400.997          400.995   \n",
       "\n",
       "                    MLPAP_TI-0706B06 MLPAP_TI-0706B17 MLPAP_TI-0706B24  \\\n",
       "2016-05-09 00:00:00          401.144          401.952          401.998   \n",
       "2016-05-09 00:10:00          401.004           401.83          401.998   \n",
       "2016-05-09 00:20:00          401.004          401.764          401.998   \n",
       "2016-05-09 00:30:00          401.004          401.996          401.998   \n",
       "2016-05-09 00:40:00          401.004          401.709          401.998   \n",
       "\n",
       "                    MLPAP_FQ-0619.PV MLPAP_TRC-0610.PV MLPAP_FR-0755.PV  \\\n",
       "2016-05-09 00:00:00       over_range        over_range          4.05092   \n",
       "2016-05-09 00:10:00       over_range        over_range          4.15789   \n",
       "2016-05-09 00:20:00       over_range        over_range          4.20789   \n",
       "2016-05-09 00:30:00       over_range        over_range          4.15208   \n",
       "2016-05-09 00:40:00       over_range        over_range          4.01662   \n",
       "\n",
       "                    MLPAP_TJR-0715A1.PV over_range_num  \n",
       "2016-05-09 00:00:00             402.689              4  \n",
       "2016-05-09 00:10:00             402.779              4  \n",
       "2016-05-09 00:20:00             402.729              4  \n",
       "2016-05-09 00:30:00             403.166              4  \n",
       "2016-05-09 00:40:00             403.017              4  \n",
       "\n",
       "[5 rows x 36 columns]"
      ]
     },
     "execution_count": 13,
     "metadata": {},
     "output_type": "execute_result"
    }
   ],
   "source": [
    "def check_spec(df,spec):\n",
    "    df['over_range_num'] = 0\n",
    "    for col in tqdm(df.columns[:-1]):\n",
    "        lb, ub = spec.loc[col,'min'],spec.loc[col,'max']\n",
    "        over_range = (df[col]<lb)|(df[col]>ub)\n",
    "        df.loc[over_range,col] = 'over_range'\n",
    "        df.loc[over_range,'over_range_num'] += 1\n",
    "    return df\n",
    "df = check_spec(df,spec)\n",
    "df.head()"
   ]
  },
  {
   "cell_type": "markdown",
   "metadata": {},
   "source": [
    "# over_range to np.nan"
   ]
  },
  {
   "cell_type": "code",
   "execution_count": 14,
   "metadata": {},
   "outputs": [
    {
     "data": {
      "text/plain": [
       "MLPAP_TI-0706B03       42917\n",
       "MLPAP_TI-0706B07       42957\n",
       "MLPAP_TI-0706B20       43013\n",
       "MLPAP_TI-0706B14       42826\n",
       "MLPAP_LIC-0738.PV      37302\n",
       "MLPAP_TI-0706B11       42933\n",
       "MLPAP_TI-0706B19       42895\n",
       "MLPAP_TIC-0757.PV      32742\n",
       "DATA OF USE                0\n",
       "MLPAP_TI-0706B04       42983\n",
       "MLPAP_TI-0716D01       43009\n",
       "MLPAP_TI-0706B13       42965\n",
       "MLPAP_FQI-0997.PV      51280\n",
       "MLPAP_TI-0706B10       42953\n",
       "MLPAP_PIC-0761.PV      38090\n",
       "MLPAP_TI-0706B22       43000\n",
       "MLPAP_TIC-1721.PV       5683\n",
       "MLPAP_TI-0706B09       42908\n",
       "MLPAP_TI-0706B05       42873\n",
       "MLPAP_V125-PHD         20569\n",
       "MLPAP_TI-0706B02       42992\n",
       "MLPAP_TRC-1734.PV       6111\n",
       "MLPAP_TI-0706B18       42989\n",
       "MLPAP_TI-0706B08       42930\n",
       "MLPAP_TI-0706A01       43013\n",
       "MLPAP_TI-0706B16       42899\n",
       "MLPAP_TI-0706B23       42929\n",
       "MLPAP_TI-0706E01       42970\n",
       "MLPAP_TI-0706B06       42945\n",
       "MLPAP_TI-0706B17       42929\n",
       "MLPAP_TI-0706B24       42935\n",
       "MLPAP_FQ-0619.PV       46600\n",
       "MLPAP_TRC-0610.PV      22385\n",
       "MLPAP_FR-0755.PV         963\n",
       "MLPAP_TJR-0715A1.PV    42870\n",
       "over_range_num             0\n",
       "dtype: int64"
      ]
     },
     "execution_count": 14,
     "metadata": {},
     "output_type": "execute_result"
    }
   ],
   "source": [
    "df = df.replace('over_range',np.nan)\n",
    "df.isnull().sum()"
   ]
  },
  {
   "cell_type": "markdown",
   "metadata": {},
   "source": [
    "# fillna"
   ]
  },
  {
   "cell_type": "code",
   "execution_count": 15,
   "metadata": {},
   "outputs": [],
   "source": [
    "x_col = df.drop(['MLPAP_FQ-0619.PV','MLPAP_FQI-0997.PV'],axis=1).columns.tolist()\n",
    "df[x_col] = df[x_col].fillna(method='bfill')\n",
    "df[x_col] = df[x_col].fillna(method='ffill')"
   ]
  },
  {
   "cell_type": "markdown",
   "metadata": {},
   "source": [
    "# add target"
   ]
  },
  {
   "cell_type": "code",
   "execution_count": 16,
   "metadata": {},
   "outputs": [
    {
     "data": {
      "text/html": [
       "<div>\n",
       "<style scoped>\n",
       "    .dataframe tbody tr th:only-of-type {\n",
       "        vertical-align: middle;\n",
       "    }\n",
       "\n",
       "    .dataframe tbody tr th {\n",
       "        vertical-align: top;\n",
       "    }\n",
       "\n",
       "    .dataframe thead th {\n",
       "        text-align: right;\n",
       "    }\n",
       "</style>\n",
       "<table border=\"1\" class=\"dataframe\">\n",
       "  <thead>\n",
       "    <tr style=\"text-align: right;\">\n",
       "      <th></th>\n",
       "      <th>MLPAP_FQI-0997.PV</th>\n",
       "      <th>MLPAP_FQ-0619.PV</th>\n",
       "    </tr>\n",
       "  </thead>\n",
       "  <tbody>\n",
       "    <tr>\n",
       "      <th>2016-05-09 00:00:00</th>\n",
       "      <td>NaN</td>\n",
       "      <td>NaN</td>\n",
       "    </tr>\n",
       "    <tr>\n",
       "      <th>2016-05-09 00:10:00</th>\n",
       "      <td>NaN</td>\n",
       "      <td>NaN</td>\n",
       "    </tr>\n",
       "    <tr>\n",
       "      <th>2016-05-09 00:20:00</th>\n",
       "      <td>NaN</td>\n",
       "      <td>NaN</td>\n",
       "    </tr>\n",
       "    <tr>\n",
       "      <th>2016-05-09 00:30:00</th>\n",
       "      <td>NaN</td>\n",
       "      <td>NaN</td>\n",
       "    </tr>\n",
       "    <tr>\n",
       "      <th>2016-05-09 00:40:00</th>\n",
       "      <td>NaN</td>\n",
       "      <td>NaN</td>\n",
       "    </tr>\n",
       "    <tr>\n",
       "      <th>...</th>\n",
       "      <td>...</td>\n",
       "      <td>...</td>\n",
       "    </tr>\n",
       "    <tr>\n",
       "      <th>2020-01-14 23:10:00</th>\n",
       "      <td>NaN</td>\n",
       "      <td>NaN</td>\n",
       "    </tr>\n",
       "    <tr>\n",
       "      <th>2020-01-14 23:20:00</th>\n",
       "      <td>NaN</td>\n",
       "      <td>NaN</td>\n",
       "    </tr>\n",
       "    <tr>\n",
       "      <th>2020-01-14 23:30:00</th>\n",
       "      <td>NaN</td>\n",
       "      <td>NaN</td>\n",
       "    </tr>\n",
       "    <tr>\n",
       "      <th>2020-01-14 23:40:00</th>\n",
       "      <td>NaN</td>\n",
       "      <td>NaN</td>\n",
       "    </tr>\n",
       "    <tr>\n",
       "      <th>2020-01-14 23:50:00</th>\n",
       "      <td>NaN</td>\n",
       "      <td>NaN</td>\n",
       "    </tr>\n",
       "  </tbody>\n",
       "</table>\n",
       "<p>193824 rows × 2 columns</p>\n",
       "</div>"
      ],
      "text/plain": [
       "                     MLPAP_FQI-0997.PV  MLPAP_FQ-0619.PV\n",
       "2016-05-09 00:00:00                NaN               NaN\n",
       "2016-05-09 00:10:00                NaN               NaN\n",
       "2016-05-09 00:20:00                NaN               NaN\n",
       "2016-05-09 00:30:00                NaN               NaN\n",
       "2016-05-09 00:40:00                NaN               NaN\n",
       "...                                ...               ...\n",
       "2020-01-14 23:10:00                NaN               NaN\n",
       "2020-01-14 23:20:00                NaN               NaN\n",
       "2020-01-14 23:30:00                NaN               NaN\n",
       "2020-01-14 23:40:00                NaN               NaN\n",
       "2020-01-14 23:50:00                NaN               NaN\n",
       "\n",
       "[193824 rows x 2 columns]"
      ]
     },
     "execution_count": 16,
     "metadata": {},
     "output_type": "execute_result"
    }
   ],
   "source": [
    "df[df.columns[df.columns.str.contains('0997|0619')]]"
   ]
  },
  {
   "cell_type": "code",
   "execution_count": 17,
   "metadata": {},
   "outputs": [
    {
     "data": {
      "text/plain": [
       "<matplotlib.axes._subplots.AxesSubplot at 0x7f97239980b8>"
      ]
     },
     "execution_count": 17,
     "metadata": {},
     "output_type": "execute_result"
    },
    {
     "data": {
      "image/png": "[encoded data removed]",
      "text/plain": [
       "<Figure size 432x288 with 1 Axes>"
      ]
     },
     "metadata": {
      "needs_background": "light"
     },
     "output_type": "display_data"
    }
   ],
   "source": [
    "df[df.columns[df.columns.str.contains('0997|0619')]].plot()"
   ]
  },
  {
   "cell_type": "code",
   "execution_count": 18,
   "metadata": {},
   "outputs": [],
   "source": [
    "df['target'] = df['MLPAP_FQ-0619.PV']/df['MLPAP_FQI-0997.PV']\n",
    "df = df.drop(['MLPAP_FQ-0619.PV','MLPAP_FQI-0997.PV'],axis=1)"
   ]
  },
  {
   "cell_type": "markdown",
   "metadata": {},
   "source": [
    "# spec target"
   ]
  },
  {
   "cell_type": "code",
   "execution_count": 19,
   "metadata": {},
   "outputs": [
    {
     "data": {
      "text/plain": [
       "<matplotlib.axes._subplots.AxesSubplot at 0x7f965850b320>"
      ]
     },
     "execution_count": 19,
     "metadata": {},
     "output_type": "execute_result"
    },
    {
     "data": {
      "image/png": "[encoded data removed]",
      "text/plain": [
       "<Figure size 432x288 with 1 Axes>"
      ]
     },
     "metadata": {
      "needs_background": "light"
     },
     "output_type": "display_data"
    }
   ],
   "source": [
    "df['target'].plot(kind='box')"
   ]
  },
  {
   "cell_type": "markdown",
   "metadata": {},
   "source": [
    "# IQR"
   ]
  },
  {
   "cell_type": "code",
   "execution_count": 20,
   "metadata": {},
   "outputs": [
    {
     "name": "stdout",
     "output_type": "stream",
     "text": [
      "0.8738874422985881 0.9416781620030912\n"
     ]
    },
    {
     "data": {
      "text/plain": [
       "<matplotlib.axes._subplots.AxesSubplot at 0x7f96e514d8d0>"
      ]
     },
     "execution_count": 20,
     "metadata": {},
     "output_type": "execute_result"
    },
    {
     "data": {
      "image/png": "[encoded data removed]",
      "text/plain": [
       "<Figure size 432x288 with 1 Axes>"
      ]
     },
     "metadata": {
      "needs_background": "light"
     },
     "output_type": "display_data"
    }
   ],
   "source": [
    "Q75 = df['target'].quantile(0.75)\n",
    "Q25 = df['target'].quantile(0.25)\n",
    "IQR = Q75 - Q25 \n",
    "ub = Q75 + 1.5*IQR\n",
    "lb = Q25 - 1.5*IQR\n",
    "print(lb,ub)\n",
    "\n",
    "out = (df['target']<lb)|(df['target']>ub)\n",
    "\n",
    "df.loc[~out,'target'].plot(kind='box')"
   ]
  },
  {
   "cell_type": "markdown",
   "metadata": {},
   "source": [
    "# Quantile"
   ]
  },
  {
   "cell_type": "code",
   "execution_count": 21,
   "metadata": {},
   "outputs": [
    {
     "name": "stdout",
     "output_type": "stream",
     "text": [
      "0.887653712828496 0.9282378891542071\n"
     ]
    },
    {
     "data": {
      "text/plain": [
       "<matplotlib.axes._subplots.AxesSubplot at 0x7f96e51317b8>"
      ]
     },
     "execution_count": 21,
     "metadata": {},
     "output_type": "execute_result"
    },
    {
     "data": {
      "image/png": "[encoded data removed]",
      "text/plain": [
       "<Figure size 432x288 with 1 Axes>"
      ]
     },
     "metadata": {
      "needs_background": "light"
     },
     "output_type": "display_data"
    }
   ],
   "source": [
    "ub = df.loc[~out,'target'].quantile(0.95)\n",
    "lb = df.loc[~out,'target'].quantile(0.05)\n",
    "print(lb,ub)\n",
    "\n",
    "out = (df['target']<lb)|(df['target']>ub)\n",
    "\n",
    "df.loc[~out,'target'].plot(kind='box')"
   ]
  },
  {
   "cell_type": "code",
   "execution_count": 22,
   "metadata": {},
   "outputs": [],
   "source": [
    "df['target_over_range'] = 0\n",
    "df.loc[out|df['target'].isnull(),'target_over_range'] = 1"
   ]
  },
  {
   "cell_type": "markdown",
   "metadata": {},
   "source": [
    "# save"
   ]
  },
  {
   "cell_type": "code",
   "execution_count": 23,
   "metadata": {},
   "outputs": [
    {
     "data": {
      "text/html": [
       "<div>\n",
       "<style scoped>\n",
       "    .dataframe tbody tr th:only-of-type {\n",
       "        vertical-align: middle;\n",
       "    }\n",
       "\n",
       "    .dataframe tbody tr th {\n",
       "        vertical-align: top;\n",
       "    }\n",
       "\n",
       "    .dataframe thead th {\n",
       "        text-align: right;\n",
       "    }\n",
       "</style>\n",
       "<table border=\"1\" class=\"dataframe\">\n",
       "  <thead>\n",
       "    <tr style=\"text-align: right;\">\n",
       "      <th></th>\n",
       "      <th>MLPAP_TI-0706B03</th>\n",
       "      <th>MLPAP_TI-0706B07</th>\n",
       "      <th>MLPAP_TI-0706B20</th>\n",
       "      <th>MLPAP_TI-0706B14</th>\n",
       "      <th>MLPAP_LIC-0738.PV</th>\n",
       "      <th>MLPAP_TI-0706B11</th>\n",
       "      <th>MLPAP_TI-0706B19</th>\n",
       "      <th>MLPAP_TIC-0757.PV</th>\n",
       "      <th>DATA OF USE</th>\n",
       "      <th>MLPAP_TI-0706B04</th>\n",
       "      <th>...</th>\n",
       "      <th>MLPAP_TI-0706E01</th>\n",
       "      <th>MLPAP_TI-0706B06</th>\n",
       "      <th>MLPAP_TI-0706B17</th>\n",
       "      <th>MLPAP_TI-0706B24</th>\n",
       "      <th>MLPAP_TRC-0610.PV</th>\n",
       "      <th>MLPAP_FR-0755.PV</th>\n",
       "      <th>MLPAP_TJR-0715A1.PV</th>\n",
       "      <th>over_range_num</th>\n",
       "      <th>target</th>\n",
       "      <th>target_over_range</th>\n",
       "    </tr>\n",
       "  </thead>\n",
       "  <tbody>\n",
       "    <tr>\n",
       "      <th>2016-05-09 00:00:00</th>\n",
       "      <td>401.962157</td>\n",
       "      <td>400.998932</td>\n",
       "      <td>400.795492</td>\n",
       "      <td>402.997679</td>\n",
       "      <td>23.912053</td>\n",
       "      <td>400.999089</td>\n",
       "      <td>402.998548</td>\n",
       "      <td>1.635430</td>\n",
       "      <td>3.342795</td>\n",
       "      <td>400.757148</td>\n",
       "      <td>...</td>\n",
       "      <td>400.994908</td>\n",
       "      <td>401.143639</td>\n",
       "      <td>401.951886</td>\n",
       "      <td>401.997668</td>\n",
       "      <td>199.928694</td>\n",
       "      <td>4.050917</td>\n",
       "      <td>402.689070</td>\n",
       "      <td>4</td>\n",
       "      <td>NaN</td>\n",
       "      <td>1</td>\n",
       "    </tr>\n",
       "    <tr>\n",
       "      <th>2016-05-09 00:10:00</th>\n",
       "      <td>401.939352</td>\n",
       "      <td>400.998932</td>\n",
       "      <td>400.795492</td>\n",
       "      <td>403.098684</td>\n",
       "      <td>23.912053</td>\n",
       "      <td>400.999089</td>\n",
       "      <td>402.998548</td>\n",
       "      <td>1.624784</td>\n",
       "      <td>3.342795</td>\n",
       "      <td>400.954632</td>\n",
       "      <td>...</td>\n",
       "      <td>400.994908</td>\n",
       "      <td>401.004025</td>\n",
       "      <td>401.830477</td>\n",
       "      <td>401.997668</td>\n",
       "      <td>199.928694</td>\n",
       "      <td>4.157893</td>\n",
       "      <td>402.778582</td>\n",
       "      <td>4</td>\n",
       "      <td>NaN</td>\n",
       "      <td>1</td>\n",
       "    </tr>\n",
       "    <tr>\n",
       "      <th>2016-05-09 00:20:00</th>\n",
       "      <td>401.905143</td>\n",
       "      <td>400.998932</td>\n",
       "      <td>400.751502</td>\n",
       "      <td>402.997679</td>\n",
       "      <td>23.912053</td>\n",
       "      <td>400.999089</td>\n",
       "      <td>402.998548</td>\n",
       "      <td>1.649624</td>\n",
       "      <td>3.342795</td>\n",
       "      <td>400.896549</td>\n",
       "      <td>...</td>\n",
       "      <td>400.994908</td>\n",
       "      <td>401.004025</td>\n",
       "      <td>401.764254</td>\n",
       "      <td>401.997668</td>\n",
       "      <td>199.928694</td>\n",
       "      <td>4.207893</td>\n",
       "      <td>402.728853</td>\n",
       "      <td>4</td>\n",
       "      <td>NaN</td>\n",
       "      <td>1</td>\n",
       "    </tr>\n",
       "    <tr>\n",
       "      <th>2016-05-09 00:30:00</th>\n",
       "      <td>401.950754</td>\n",
       "      <td>400.998932</td>\n",
       "      <td>400.949457</td>\n",
       "      <td>403.098684</td>\n",
       "      <td>23.912053</td>\n",
       "      <td>400.999089</td>\n",
       "      <td>402.998548</td>\n",
       "      <td>1.635430</td>\n",
       "      <td>3.342795</td>\n",
       "      <td>400.896549</td>\n",
       "      <td>...</td>\n",
       "      <td>400.994908</td>\n",
       "      <td>401.004025</td>\n",
       "      <td>401.996035</td>\n",
       "      <td>401.997668</td>\n",
       "      <td>199.928694</td>\n",
       "      <td>4.152079</td>\n",
       "      <td>403.166466</td>\n",
       "      <td>4</td>\n",
       "      <td>NaN</td>\n",
       "      <td>1</td>\n",
       "    </tr>\n",
       "    <tr>\n",
       "      <th>2016-05-09 00:40:00</th>\n",
       "      <td>401.996366</td>\n",
       "      <td>400.998932</td>\n",
       "      <td>401.004445</td>\n",
       "      <td>403.098684</td>\n",
       "      <td>23.912053</td>\n",
       "      <td>400.999089</td>\n",
       "      <td>402.998548</td>\n",
       "      <td>1.653172</td>\n",
       "      <td>3.342795</td>\n",
       "      <td>400.850082</td>\n",
       "      <td>...</td>\n",
       "      <td>400.994908</td>\n",
       "      <td>401.004025</td>\n",
       "      <td>401.709068</td>\n",
       "      <td>401.997668</td>\n",
       "      <td>199.928694</td>\n",
       "      <td>4.016615</td>\n",
       "      <td>403.017280</td>\n",
       "      <td>4</td>\n",
       "      <td>NaN</td>\n",
       "      <td>1</td>\n",
       "    </tr>\n",
       "  </tbody>\n",
       "</table>\n",
       "<p>5 rows × 36 columns</p>\n",
       "</div>"
      ],
      "text/plain": [
       "                     MLPAP_TI-0706B03  MLPAP_TI-0706B07  MLPAP_TI-0706B20  \\\n",
       "2016-05-09 00:00:00        401.962157        400.998932        400.795492   \n",
       "2016-05-09 00:10:00        401.939352        400.998932        400.795492   \n",
       "2016-05-09 00:20:00        401.905143        400.998932        400.751502   \n",
       "2016-05-09 00:30:00        401.950754        400.998932        400.949457   \n",
       "2016-05-09 00:40:00        401.996366        400.998932        401.004445   \n",
       "\n",
       "                     MLPAP_TI-0706B14  MLPAP_LIC-0738.PV  MLPAP_TI-0706B11  \\\n",
       "2016-05-09 00:00:00        402.997679          23.912053        400.999089   \n",
       "2016-05-09 00:10:00        403.098684          23.912053        400.999089   \n",
       "2016-05-09 00:20:00        402.997679          23.912053        400.999089   \n",
       "2016-05-09 00:30:00        403.098684          23.912053        400.999089   \n",
       "2016-05-09 00:40:00        403.098684          23.912053        400.999089   \n",
       "\n",
       "                     MLPAP_TI-0706B19  MLPAP_TIC-0757.PV  DATA OF USE  \\\n",
       "2016-05-09 00:00:00        402.998548           1.635430     3.342795   \n",
       "2016-05-09 00:10:00        402.998548           1.624784     3.342795   \n",
       "2016-05-09 00:20:00        402.998548           1.649624     3.342795   \n",
       "2016-05-09 00:30:00        402.998548           1.635430     3.342795   \n",
       "2016-05-09 00:40:00        402.998548           1.653172     3.342795   \n",
       "\n",
       "                     MLPAP_TI-0706B04  ...  MLPAP_TI-0706E01  \\\n",
       "2016-05-09 00:00:00        400.757148  ...        400.994908   \n",
       "2016-05-09 00:10:00        400.954632  ...        400.994908   \n",
       "2016-05-09 00:20:00        400.896549  ...        400.994908   \n",
       "2016-05-09 00:30:00        400.896549  ...        400.994908   \n",
       "2016-05-09 00:40:00        400.850082  ...        400.994908   \n",
       "\n",
       "                     MLPAP_TI-0706B06  MLPAP_TI-0706B17  MLPAP_TI-0706B24  \\\n",
       "2016-05-09 00:00:00        401.143639        401.951886        401.997668   \n",
       "2016-05-09 00:10:00        401.004025        401.830477        401.997668   \n",
       "2016-05-09 00:20:00        401.004025        401.764254        401.997668   \n",
       "2016-05-09 00:30:00        401.004025        401.996035        401.997668   \n",
       "2016-05-09 00:40:00        401.004025        401.709068        401.997668   \n",
       "\n",
       "                     MLPAP_TRC-0610.PV  MLPAP_FR-0755.PV  MLPAP_TJR-0715A1.PV  \\\n",
       "2016-05-09 00:00:00         199.928694          4.050917           402.689070   \n",
       "2016-05-09 00:10:00         199.928694          4.157893           402.778582   \n",
       "2016-05-09 00:20:00         199.928694          4.207893           402.728853   \n",
       "2016-05-09 00:30:00         199.928694          4.152079           403.166466   \n",
       "2016-05-09 00:40:00         199.928694          4.016615           403.017280   \n",
       "\n",
       "                     over_range_num  target  target_over_range  \n",
       "2016-05-09 00:00:00               4     NaN                  1  \n",
       "2016-05-09 00:10:00               4     NaN                  1  \n",
       "2016-05-09 00:20:00               4     NaN                  1  \n",
       "2016-05-09 00:30:00               4     NaN                  1  \n",
       "2016-05-09 00:40:00               4     NaN                  1  \n",
       "\n",
       "[5 rows x 36 columns]"
      ]
     },
     "execution_count": 23,
     "metadata": {},
     "output_type": "execute_result"
    }
   ],
   "source": [
    "df.head()"
   ]
  },
  {
   "cell_type": "code",
   "execution_count": 24,
   "metadata": {},
   "outputs": [],
   "source": [
    "df.to_csv('./data/train_spec_checked(full).csv')"
   ]
  },
  {
   "cell_type": "code",
   "execution_count": null,
   "metadata": {},
   "outputs": [],
   "source": []
  }
 ],
 "metadata": {
  "kernelspec": {
   "display_name": "Python 3",
   "language": "python",
   "name": "python3"
  },
  "language_info": {
   "codemirror_mode": {
    "name": "ipython",
    "version": 3
   },
   "file_extension": ".py",
   "mimetype": "text/x-python",
   "name": "python",
   "nbconvert_exporter": "python",
   "pygments_lexer": "ipython3",
   "version": "3.6.9"
  }
 },
 "nbformat": 4,
 "nbformat_minor": 2
}
