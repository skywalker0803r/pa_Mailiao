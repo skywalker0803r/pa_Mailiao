{
 "cells": [
  {
   "cell_type": "code",
   "execution_count": 226,
   "metadata": {},
   "outputs": [
    {
     "data": {
      "text/plain": [
       "['train_bfill_Filled(full).csv',\n",
       " 'train_spec_checked(2016~2017).csv',\n",
       " 'train_FeatureSelected(2016~2017).csv',\n",
       " 'train_KnnFilled(2017~2018).csv',\n",
       " 'train_KnnFilled(2016~2017).csv',\n",
       " 'train_KnnFilled(2018~2019).csv',\n",
       " 'train_KnnFilled(full).csv',\n",
       " 'train_spec_checked(full).csv']"
      ]
     },
     "execution_count": 226,
     "metadata": {},
     "output_type": "execute_result"
    }
   ],
   "source": [
    "import os\n",
    "os.listdir('./data')"
   ]
  },
  {
   "cell_type": "code",
   "execution_count": 227,
   "metadata": {},
   "outputs": [],
   "source": [
    "import pandas as pd\n",
    "import matplotlib.pyplot as plt\n",
    "import numpy as np\n",
    "import seaborn as sns\n",
    "import collections\n",
    "from tqdm import tqdm_notebook as tqdm"
   ]
  },
  {
   "cell_type": "markdown",
   "metadata": {},
   "source": [
    "# load df"
   ]
  },
  {
   "cell_type": "code",
   "execution_count": 228,
   "metadata": {},
   "outputs": [],
   "source": [
    "file_path = './data/train_bfill_Filled(full).csv'"
   ]
  },
  {
   "cell_type": "code",
   "execution_count": 229,
   "metadata": {},
   "outputs": [
    {
     "name": "stdout",
     "output_type": "stream",
     "text": [
      "(193824, 93)\n"
     ]
    },
    {
     "data": {
      "text/html": [
       "<div>\n",
       "<style scoped>\n",
       "    .dataframe tbody tr th:only-of-type {\n",
       "        vertical-align: middle;\n",
       "    }\n",
       "\n",
       "    .dataframe tbody tr th {\n",
       "        vertical-align: top;\n",
       "    }\n",
       "\n",
       "    .dataframe thead th {\n",
       "        text-align: right;\n",
       "    }\n",
       "</style>\n",
       "<table border=\"1\" class=\"dataframe\">\n",
       "  <thead>\n",
       "    <tr style=\"text-align: right;\">\n",
       "      <th></th>\n",
       "      <th>MLPAP_TI-0706B02</th>\n",
       "      <th>MLPAP_TI-0706B03</th>\n",
       "      <th>MLPAP_TI-0706B04</th>\n",
       "      <th>MLPAP_TI-0706B05</th>\n",
       "      <th>MLPAP_TI-0706B06</th>\n",
       "      <th>MLPAP_TI-0706B07</th>\n",
       "      <th>MLPAP_TI-0706B08</th>\n",
       "      <th>MLPAP_TI-0706B09</th>\n",
       "      <th>MLPAP_TI-0706B10</th>\n",
       "      <th>MLPAP_TI-0706B11</th>\n",
       "      <th>...</th>\n",
       "      <th>MLPAP_FQI-0997.PV</th>\n",
       "      <th>DATA OF USE</th>\n",
       "      <th>MLPAP_FR-0755.PV</th>\n",
       "      <th>MLPAP_FR-0755PV(轉換後)</th>\n",
       "      <th>MLPAP_FR-0791.PV</th>\n",
       "      <th>MLPAP_FI-V211.PV</th>\n",
       "      <th>MLPAP_FI-V211.PV(轉換後)</th>\n",
       "      <th>MLPAP_PI-0658.PV</th>\n",
       "      <th>MLPAP_TIC-0757.PV</th>\n",
       "      <th>MLPAP_V125-PHD</th>\n",
       "    </tr>\n",
       "  </thead>\n",
       "  <tbody>\n",
       "    <tr>\n",
       "      <th>2016-05-09 00:00:00</th>\n",
       "      <td>400.0</td>\n",
       "      <td>401.957120</td>\n",
       "      <td>400.751866</td>\n",
       "      <td>402.250788</td>\n",
       "      <td>401.148767</td>\n",
       "      <td>401.0</td>\n",
       "      <td>400.050078</td>\n",
       "      <td>403.0</td>\n",
       "      <td>402.0</td>\n",
       "      <td>401.0</td>\n",
       "      <td>...</td>\n",
       "      <td>0.0</td>\n",
       "      <td>0.000005</td>\n",
       "      <td>4.051145</td>\n",
       "      <td>4.045683</td>\n",
       "      <td>6.484770</td>\n",
       "      <td>0.0</td>\n",
       "      <td>0.0</td>\n",
       "      <td>-1.000000</td>\n",
       "      <td>1.635186</td>\n",
       "      <td>0.051</td>\n",
       "    </tr>\n",
       "    <tr>\n",
       "      <th>2016-05-09 00:10:00</th>\n",
       "      <td>400.0</td>\n",
       "      <td>401.942713</td>\n",
       "      <td>400.949883</td>\n",
       "      <td>402.249145</td>\n",
       "      <td>401.000000</td>\n",
       "      <td>401.0</td>\n",
       "      <td>400.249800</td>\n",
       "      <td>403.0</td>\n",
       "      <td>402.0</td>\n",
       "      <td>401.0</td>\n",
       "      <td>...</td>\n",
       "      <td>0.0</td>\n",
       "      <td>0.000010</td>\n",
       "      <td>4.157856</td>\n",
       "      <td>4.152250</td>\n",
       "      <td>6.449888</td>\n",
       "      <td>0.0</td>\n",
       "      <td>0.0</td>\n",
       "      <td>-1.000000</td>\n",
       "      <td>1.625011</td>\n",
       "      <td>0.051</td>\n",
       "    </tr>\n",
       "    <tr>\n",
       "      <th>2016-05-09 00:20:00</th>\n",
       "      <td>400.0</td>\n",
       "      <td>401.900145</td>\n",
       "      <td>400.899767</td>\n",
       "      <td>402.101255</td>\n",
       "      <td>401.000000</td>\n",
       "      <td>401.0</td>\n",
       "      <td>400.100155</td>\n",
       "      <td>403.0</td>\n",
       "      <td>402.0</td>\n",
       "      <td>401.0</td>\n",
       "      <td>...</td>\n",
       "      <td>0.0</td>\n",
       "      <td>0.000014</td>\n",
       "      <td>4.208122</td>\n",
       "      <td>4.202449</td>\n",
       "      <td>6.440502</td>\n",
       "      <td>0.0</td>\n",
       "      <td>0.0</td>\n",
       "      <td>-0.898558</td>\n",
       "      <td>1.649780</td>\n",
       "      <td>0.051</td>\n",
       "    </tr>\n",
       "    <tr>\n",
       "      <th>2016-05-09 00:30:00</th>\n",
       "      <td>400.0</td>\n",
       "      <td>401.949936</td>\n",
       "      <td>400.900210</td>\n",
       "      <td>402.300333</td>\n",
       "      <td>401.000000</td>\n",
       "      <td>401.0</td>\n",
       "      <td>400.144695</td>\n",
       "      <td>403.0</td>\n",
       "      <td>402.0</td>\n",
       "      <td>401.0</td>\n",
       "      <td>...</td>\n",
       "      <td>0.0</td>\n",
       "      <td>0.000019</td>\n",
       "      <td>4.152321</td>\n",
       "      <td>4.146723</td>\n",
       "      <td>6.463649</td>\n",
       "      <td>0.0</td>\n",
       "      <td>0.0</td>\n",
       "      <td>-0.509010</td>\n",
       "      <td>1.635187</td>\n",
       "      <td>0.051</td>\n",
       "    </tr>\n",
       "    <tr>\n",
       "      <th>2016-05-09 00:40:00</th>\n",
       "      <td>400.0</td>\n",
       "      <td>402.000000</td>\n",
       "      <td>400.850037</td>\n",
       "      <td>402.176070</td>\n",
       "      <td>401.000000</td>\n",
       "      <td>401.0</td>\n",
       "      <td>400.405002</td>\n",
       "      <td>403.0</td>\n",
       "      <td>402.0</td>\n",
       "      <td>401.0</td>\n",
       "      <td>...</td>\n",
       "      <td>0.0</td>\n",
       "      <td>0.000024</td>\n",
       "      <td>4.016713</td>\n",
       "      <td>4.011298</td>\n",
       "      <td>6.414799</td>\n",
       "      <td>0.0</td>\n",
       "      <td>0.0</td>\n",
       "      <td>-0.992771</td>\n",
       "      <td>1.654259</td>\n",
       "      <td>0.051</td>\n",
       "    </tr>\n",
       "  </tbody>\n",
       "</table>\n",
       "<p>5 rows × 93 columns</p>\n",
       "</div>"
      ],
      "text/plain": [
       "                     MLPAP_TI-0706B02  MLPAP_TI-0706B03  MLPAP_TI-0706B04  \\\n",
       "2016-05-09 00:00:00             400.0        401.957120        400.751866   \n",
       "2016-05-09 00:10:00             400.0        401.942713        400.949883   \n",
       "2016-05-09 00:20:00             400.0        401.900145        400.899767   \n",
       "2016-05-09 00:30:00             400.0        401.949936        400.900210   \n",
       "2016-05-09 00:40:00             400.0        402.000000        400.850037   \n",
       "\n",
       "                     MLPAP_TI-0706B05  MLPAP_TI-0706B06  MLPAP_TI-0706B07  \\\n",
       "2016-05-09 00:00:00        402.250788        401.148767             401.0   \n",
       "2016-05-09 00:10:00        402.249145        401.000000             401.0   \n",
       "2016-05-09 00:20:00        402.101255        401.000000             401.0   \n",
       "2016-05-09 00:30:00        402.300333        401.000000             401.0   \n",
       "2016-05-09 00:40:00        402.176070        401.000000             401.0   \n",
       "\n",
       "                     MLPAP_TI-0706B08  MLPAP_TI-0706B09  MLPAP_TI-0706B10  \\\n",
       "2016-05-09 00:00:00        400.050078             403.0             402.0   \n",
       "2016-05-09 00:10:00        400.249800             403.0             402.0   \n",
       "2016-05-09 00:20:00        400.100155             403.0             402.0   \n",
       "2016-05-09 00:30:00        400.144695             403.0             402.0   \n",
       "2016-05-09 00:40:00        400.405002             403.0             402.0   \n",
       "\n",
       "                     MLPAP_TI-0706B11  ...  MLPAP_FQI-0997.PV  DATA OF USE  \\\n",
       "2016-05-09 00:00:00             401.0  ...                0.0     0.000005   \n",
       "2016-05-09 00:10:00             401.0  ...                0.0     0.000010   \n",
       "2016-05-09 00:20:00             401.0  ...                0.0     0.000014   \n",
       "2016-05-09 00:30:00             401.0  ...                0.0     0.000019   \n",
       "2016-05-09 00:40:00             401.0  ...                0.0     0.000024   \n",
       "\n",
       "                     MLPAP_FR-0755.PV  MLPAP_FR-0755PV(轉換後)  MLPAP_FR-0791.PV  \\\n",
       "2016-05-09 00:00:00          4.051145              4.045683          6.484770   \n",
       "2016-05-09 00:10:00          4.157856              4.152250          6.449888   \n",
       "2016-05-09 00:20:00          4.208122              4.202449          6.440502   \n",
       "2016-05-09 00:30:00          4.152321              4.146723          6.463649   \n",
       "2016-05-09 00:40:00          4.016713              4.011298          6.414799   \n",
       "\n",
       "                     MLPAP_FI-V211.PV  MLPAP_FI-V211.PV(轉換後)  \\\n",
       "2016-05-09 00:00:00               0.0                    0.0   \n",
       "2016-05-09 00:10:00               0.0                    0.0   \n",
       "2016-05-09 00:20:00               0.0                    0.0   \n",
       "2016-05-09 00:30:00               0.0                    0.0   \n",
       "2016-05-09 00:40:00               0.0                    0.0   \n",
       "\n",
       "                     MLPAP_PI-0658.PV  MLPAP_TIC-0757.PV  MLPAP_V125-PHD  \n",
       "2016-05-09 00:00:00         -1.000000           1.635186           0.051  \n",
       "2016-05-09 00:10:00         -1.000000           1.625011           0.051  \n",
       "2016-05-09 00:20:00         -0.898558           1.649780           0.051  \n",
       "2016-05-09 00:30:00         -0.509010           1.635187           0.051  \n",
       "2016-05-09 00:40:00         -0.992771           1.654259           0.051  \n",
       "\n",
       "[5 rows x 93 columns]"
      ]
     },
     "execution_count": 229,
     "metadata": {},
     "output_type": "execute_result"
    }
   ],
   "source": [
    "df = pd.read_csv(file_path, index_col = 0, parse_dates = True)\n",
    "print(df.shape)\n",
    "df.head()"
   ]
  },
  {
   "cell_type": "code",
   "execution_count": 230,
   "metadata": {},
   "outputs": [
    {
     "data": {
      "text/html": [
       "<div>\n",
       "<style scoped>\n",
       "    .dataframe tbody tr th:only-of-type {\n",
       "        vertical-align: middle;\n",
       "    }\n",
       "\n",
       "    .dataframe tbody tr th {\n",
       "        vertical-align: top;\n",
       "    }\n",
       "\n",
       "    .dataframe thead th {\n",
       "        text-align: right;\n",
       "    }\n",
       "</style>\n",
       "<table border=\"1\" class=\"dataframe\">\n",
       "  <thead>\n",
       "    <tr style=\"text-align: right;\">\n",
       "      <th></th>\n",
       "      <th>MLPAP_FR-0755.PV</th>\n",
       "      <th>MLPAP_FR-0755PV(轉換後)</th>\n",
       "      <th>MLPAP_FI-V211.PV</th>\n",
       "      <th>MLPAP_FI-V211.PV(轉換後)</th>\n",
       "    </tr>\n",
       "  </thead>\n",
       "  <tbody>\n",
       "    <tr>\n",
       "      <th>2016-05-09 00:00:00</th>\n",
       "      <td>4.051145</td>\n",
       "      <td>4.045683</td>\n",
       "      <td>0.000000</td>\n",
       "      <td>0.000000</td>\n",
       "    </tr>\n",
       "    <tr>\n",
       "      <th>2016-05-09 00:10:00</th>\n",
       "      <td>4.157856</td>\n",
       "      <td>4.152250</td>\n",
       "      <td>0.000000</td>\n",
       "      <td>0.000000</td>\n",
       "    </tr>\n",
       "    <tr>\n",
       "      <th>2016-05-09 00:20:00</th>\n",
       "      <td>4.208122</td>\n",
       "      <td>4.202449</td>\n",
       "      <td>0.000000</td>\n",
       "      <td>0.000000</td>\n",
       "    </tr>\n",
       "    <tr>\n",
       "      <th>2016-05-09 00:30:00</th>\n",
       "      <td>4.152321</td>\n",
       "      <td>4.146723</td>\n",
       "      <td>0.000000</td>\n",
       "      <td>0.000000</td>\n",
       "    </tr>\n",
       "    <tr>\n",
       "      <th>2016-05-09 00:40:00</th>\n",
       "      <td>4.016713</td>\n",
       "      <td>4.011298</td>\n",
       "      <td>0.000000</td>\n",
       "      <td>0.000000</td>\n",
       "    </tr>\n",
       "    <tr>\n",
       "      <th>...</th>\n",
       "      <td>...</td>\n",
       "      <td>...</td>\n",
       "      <td>...</td>\n",
       "      <td>...</td>\n",
       "    </tr>\n",
       "    <tr>\n",
       "      <th>2020-01-14 23:10:00</th>\n",
       "      <td>4.062844</td>\n",
       "      <td>4.057367</td>\n",
       "      <td>1407.074137</td>\n",
       "      <td>1405.177243</td>\n",
       "    </tr>\n",
       "    <tr>\n",
       "      <th>2020-01-14 23:20:00</th>\n",
       "      <td>4.059323</td>\n",
       "      <td>4.053850</td>\n",
       "      <td>1407.000689</td>\n",
       "      <td>1405.103894</td>\n",
       "    </tr>\n",
       "    <tr>\n",
       "      <th>2020-01-14 23:30:00</th>\n",
       "      <td>4.067255</td>\n",
       "      <td>4.061772</td>\n",
       "      <td>1411.786722</td>\n",
       "      <td>1409.883474</td>\n",
       "    </tr>\n",
       "    <tr>\n",
       "      <th>2020-01-14 23:40:00</th>\n",
       "      <td>4.065271</td>\n",
       "      <td>4.059790</td>\n",
       "      <td>1406.828511</td>\n",
       "      <td>1404.931948</td>\n",
       "    </tr>\n",
       "    <tr>\n",
       "      <th>2020-01-14 23:50:00</th>\n",
       "      <td>4.060975</td>\n",
       "      <td>4.055500</td>\n",
       "      <td>1407.550521</td>\n",
       "      <td>1405.652984</td>\n",
       "    </tr>\n",
       "  </tbody>\n",
       "</table>\n",
       "<p>193824 rows × 4 columns</p>\n",
       "</div>"
      ],
      "text/plain": [
       "                     MLPAP_FR-0755.PV  MLPAP_FR-0755PV(轉換後)  MLPAP_FI-V211.PV  \\\n",
       "2016-05-09 00:00:00          4.051145              4.045683          0.000000   \n",
       "2016-05-09 00:10:00          4.157856              4.152250          0.000000   \n",
       "2016-05-09 00:20:00          4.208122              4.202449          0.000000   \n",
       "2016-05-09 00:30:00          4.152321              4.146723          0.000000   \n",
       "2016-05-09 00:40:00          4.016713              4.011298          0.000000   \n",
       "...                               ...                   ...               ...   \n",
       "2020-01-14 23:10:00          4.062844              4.057367       1407.074137   \n",
       "2020-01-14 23:20:00          4.059323              4.053850       1407.000689   \n",
       "2020-01-14 23:30:00          4.067255              4.061772       1411.786722   \n",
       "2020-01-14 23:40:00          4.065271              4.059790       1406.828511   \n",
       "2020-01-14 23:50:00          4.060975              4.055500       1407.550521   \n",
       "\n",
       "                     MLPAP_FI-V211.PV(轉換後)  \n",
       "2016-05-09 00:00:00               0.000000  \n",
       "2016-05-09 00:10:00               0.000000  \n",
       "2016-05-09 00:20:00               0.000000  \n",
       "2016-05-09 00:30:00               0.000000  \n",
       "2016-05-09 00:40:00               0.000000  \n",
       "...                                    ...  \n",
       "2020-01-14 23:10:00            1405.177243  \n",
       "2020-01-14 23:20:00            1405.103894  \n",
       "2020-01-14 23:30:00            1409.883474  \n",
       "2020-01-14 23:40:00            1404.931948  \n",
       "2020-01-14 23:50:00            1405.652984  \n",
       "\n",
       "[193824 rows x 4 columns]"
      ]
     },
     "execution_count": 230,
     "metadata": {},
     "output_type": "execute_result"
    }
   ],
   "source": [
    "df[df.columns[df.columns.str.contains('0755|211')]]"
   ]
  },
  {
   "cell_type": "markdown",
   "metadata": {},
   "source": [
    "# drop2 columns"
   ]
  },
  {
   "cell_type": "code",
   "execution_count": 231,
   "metadata": {},
   "outputs": [
    {
     "data": {
      "text/html": [
       "<div>\n",
       "<style scoped>\n",
       "    .dataframe tbody tr th:only-of-type {\n",
       "        vertical-align: middle;\n",
       "    }\n",
       "\n",
       "    .dataframe tbody tr th {\n",
       "        vertical-align: top;\n",
       "    }\n",
       "\n",
       "    .dataframe thead th {\n",
       "        text-align: right;\n",
       "    }\n",
       "</style>\n",
       "<table border=\"1\" class=\"dataframe\">\n",
       "  <thead>\n",
       "    <tr style=\"text-align: right;\">\n",
       "      <th></th>\n",
       "      <th>item</th>\n",
       "      <th>TAG</th>\n",
       "      <th>chinese</th>\n",
       "      <th>character</th>\n",
       "      <th>unit</th>\n",
       "      <th>category</th>\n",
       "      <th>period</th>\n",
       "      <th>min</th>\n",
       "      <th>max</th>\n",
       "      <th>推測顯著性(依製程經驗)</th>\n",
       "    </tr>\n",
       "  </thead>\n",
       "  <tbody>\n",
       "    <tr>\n",
       "      <th>27</th>\n",
       "      <td>28.0</td>\n",
       "      <td>MLPAP_FR-0755PV(轉換後)</td>\n",
       "      <td>反應槽16K蒸氣輸出</td>\n",
       "      <td>流量</td>\n",
       "      <td>T/HR</td>\n",
       "      <td>不可控制因子</td>\n",
       "      <td>1分鐘2筆</td>\n",
       "      <td>0</td>\n",
       "      <td>25</td>\n",
       "      <td>***</td>\n",
       "    </tr>\n",
       "    <tr>\n",
       "      <th>29</th>\n",
       "      <td>30.0</td>\n",
       "      <td>MLPAP_FI-V211.PV(轉換後)</td>\n",
       "      <td>副反應槽蒸氣輸出</td>\n",
       "      <td>流量</td>\n",
       "      <td>KG/HR</td>\n",
       "      <td>不可控制因子</td>\n",
       "      <td>1分鐘2筆</td>\n",
       "      <td>1000</td>\n",
       "      <td>6900</td>\n",
       "      <td>***</td>\n",
       "    </tr>\n",
       "  </tbody>\n",
       "</table>\n",
       "</div>"
      ],
      "text/plain": [
       "    item                    TAG     chinese character   unit category period  \\\n",
       "27  28.0   MLPAP_FR-0755PV(轉換後)  反應槽16K蒸氣輸出        流量   T/HR   不可控制因子  1分鐘2筆   \n",
       "29  30.0  MLPAP_FI-V211.PV(轉換後)    副反應槽蒸氣輸出        流量  KG/HR   不可控制因子  1分鐘2筆   \n",
       "\n",
       "     min   max 推測顯著性(依製程經驗)  \n",
       "27     0    25          ***  \n",
       "29  1000  6900          ***  "
      ]
     },
     "execution_count": 231,
     "metadata": {},
     "output_type": "execute_result"
    }
   ],
   "source": [
    "tag_sheet = pd.read_excel('tag盤點表.xlsx')\n",
    "tag_sheet.loc[tag_sheet['TAG'].str.contains('0755|211')==True]"
   ]
  },
  {
   "cell_type": "code",
   "execution_count": 232,
   "metadata": {},
   "outputs": [
    {
     "name": "stdout",
     "output_type": "stream",
     "text": [
      "(193824, 93)\n",
      "(193824, 91)\n"
     ]
    }
   ],
   "source": [
    "print(df.shape)\n",
    "df = df.drop(['MLPAP_FR-0755.PV','MLPAP_FI-V211.PV'],axis=1)\n",
    "print(df.shape)"
   ]
  },
  {
   "cell_type": "code",
   "execution_count": 233,
   "metadata": {},
   "outputs": [
    {
     "data": {
      "text/html": [
       "<div>\n",
       "<style scoped>\n",
       "    .dataframe tbody tr th:only-of-type {\n",
       "        vertical-align: middle;\n",
       "    }\n",
       "\n",
       "    .dataframe tbody tr th {\n",
       "        vertical-align: top;\n",
       "    }\n",
       "\n",
       "    .dataframe thead th {\n",
       "        text-align: right;\n",
       "    }\n",
       "</style>\n",
       "<table border=\"1\" class=\"dataframe\">\n",
       "  <thead>\n",
       "    <tr style=\"text-align: right;\">\n",
       "      <th></th>\n",
       "      <th>MLPAP_TIC-0757A.PV</th>\n",
       "      <th>MLPAP_TI-0757B.PV</th>\n",
       "      <th>MLPAP_TIC-0757.PV</th>\n",
       "    </tr>\n",
       "  </thead>\n",
       "  <tbody>\n",
       "    <tr>\n",
       "      <th>2016-05-09 00:00:00</th>\n",
       "      <td>399.700012</td>\n",
       "      <td>400.514472</td>\n",
       "      <td>1.635186</td>\n",
       "    </tr>\n",
       "    <tr>\n",
       "      <th>2016-05-09 00:10:00</th>\n",
       "      <td>399.700012</td>\n",
       "      <td>400.540553</td>\n",
       "      <td>1.625011</td>\n",
       "    </tr>\n",
       "    <tr>\n",
       "      <th>2016-05-09 00:20:00</th>\n",
       "      <td>399.734506</td>\n",
       "      <td>400.594478</td>\n",
       "      <td>1.649780</td>\n",
       "    </tr>\n",
       "    <tr>\n",
       "      <th>2016-05-09 00:30:00</th>\n",
       "      <td>399.799988</td>\n",
       "      <td>400.600006</td>\n",
       "      <td>1.635187</td>\n",
       "    </tr>\n",
       "    <tr>\n",
       "      <th>2016-05-09 00:40:00</th>\n",
       "      <td>399.799988</td>\n",
       "      <td>400.600006</td>\n",
       "      <td>1.654259</td>\n",
       "    </tr>\n",
       "    <tr>\n",
       "      <th>...</th>\n",
       "      <td>...</td>\n",
       "      <td>...</td>\n",
       "      <td>...</td>\n",
       "    </tr>\n",
       "    <tr>\n",
       "      <th>2020-01-14 23:10:00</th>\n",
       "      <td>296.458011</td>\n",
       "      <td>296.754481</td>\n",
       "      <td>0.544648</td>\n",
       "    </tr>\n",
       "    <tr>\n",
       "      <th>2020-01-14 23:20:00</th>\n",
       "      <td>296.102549</td>\n",
       "      <td>296.312035</td>\n",
       "      <td>0.429594</td>\n",
       "    </tr>\n",
       "    <tr>\n",
       "      <th>2020-01-14 23:30:00</th>\n",
       "      <td>295.631948</td>\n",
       "      <td>296.010352</td>\n",
       "      <td>0.757286</td>\n",
       "    </tr>\n",
       "    <tr>\n",
       "      <th>2020-01-14 23:40:00</th>\n",
       "      <td>295.196892</td>\n",
       "      <td>295.661895</td>\n",
       "      <td>0.920603</td>\n",
       "    </tr>\n",
       "    <tr>\n",
       "      <th>2020-01-14 23:50:00</th>\n",
       "      <td>294.870917</td>\n",
       "      <td>295.311361</td>\n",
       "      <td>0.850938</td>\n",
       "    </tr>\n",
       "  </tbody>\n",
       "</table>\n",
       "<p>193824 rows × 3 columns</p>\n",
       "</div>"
      ],
      "text/plain": [
       "                     MLPAP_TIC-0757A.PV  MLPAP_TI-0757B.PV  MLPAP_TIC-0757.PV\n",
       "2016-05-09 00:00:00          399.700012         400.514472           1.635186\n",
       "2016-05-09 00:10:00          399.700012         400.540553           1.625011\n",
       "2016-05-09 00:20:00          399.734506         400.594478           1.649780\n",
       "2016-05-09 00:30:00          399.799988         400.600006           1.635187\n",
       "2016-05-09 00:40:00          399.799988         400.600006           1.654259\n",
       "...                                 ...                ...                ...\n",
       "2020-01-14 23:10:00          296.458011         296.754481           0.544648\n",
       "2020-01-14 23:20:00          296.102549         296.312035           0.429594\n",
       "2020-01-14 23:30:00          295.631948         296.010352           0.757286\n",
       "2020-01-14 23:40:00          295.196892         295.661895           0.920603\n",
       "2020-01-14 23:50:00          294.870917         295.311361           0.850938\n",
       "\n",
       "[193824 rows x 3 columns]"
      ]
     },
     "execution_count": 233,
     "metadata": {},
     "output_type": "execute_result"
    }
   ],
   "source": [
    "df[df.columns[df.columns.str.contains('0757')]]"
   ]
  },
  {
   "cell_type": "code",
   "execution_count": 234,
   "metadata": {},
   "outputs": [
    {
     "data": {
      "text/html": [
       "<div>\n",
       "<style scoped>\n",
       "    .dataframe tbody tr th:only-of-type {\n",
       "        vertical-align: middle;\n",
       "    }\n",
       "\n",
       "    .dataframe tbody tr th {\n",
       "        vertical-align: top;\n",
       "    }\n",
       "\n",
       "    .dataframe thead th {\n",
       "        text-align: right;\n",
       "    }\n",
       "</style>\n",
       "<table border=\"1\" class=\"dataframe\">\n",
       "  <thead>\n",
       "    <tr style=\"text-align: right;\">\n",
       "      <th></th>\n",
       "      <th>item</th>\n",
       "      <th>TAG</th>\n",
       "      <th>chinese</th>\n",
       "      <th>character</th>\n",
       "      <th>unit</th>\n",
       "      <th>category</th>\n",
       "      <th>period</th>\n",
       "      <th>min</th>\n",
       "      <th>max</th>\n",
       "      <th>推測顯著性(依製程經驗)</th>\n",
       "    </tr>\n",
       "  </thead>\n",
       "  <tbody>\n",
       "    <tr>\n",
       "      <th>4</th>\n",
       "      <td>5.0</td>\n",
       "      <td>MLPAP_TIC-0757A.PV</td>\n",
       "      <td>反應槽鹽浴溫度</td>\n",
       "      <td>溫度</td>\n",
       "      <td>℃</td>\n",
       "      <td>可控制因子</td>\n",
       "      <td>1分鐘2筆</td>\n",
       "      <td>345</td>\n",
       "      <td>365</td>\n",
       "      <td>****</td>\n",
       "    </tr>\n",
       "    <tr>\n",
       "      <th>88</th>\n",
       "      <td>89.0</td>\n",
       "      <td>MLPAP_TIC-0757.PV</td>\n",
       "      <td>反應器A/B側鹽浴溫度差</td>\n",
       "      <td>溫度</td>\n",
       "      <td>℃</td>\n",
       "      <td>可控制因子</td>\n",
       "      <td>1分鐘2筆</td>\n",
       "      <td>-3</td>\n",
       "      <td>3</td>\n",
       "      <td>***</td>\n",
       "    </tr>\n",
       "  </tbody>\n",
       "</table>\n",
       "</div>"
      ],
      "text/plain": [
       "    item                 TAG       chinese character unit category period  \\\n",
       "4    5.0  MLPAP_TIC-0757A.PV       反應槽鹽浴溫度        溫度    ℃    可控制因子  1分鐘2筆   \n",
       "88  89.0   MLPAP_TIC-0757.PV  反應器A/B側鹽浴溫度差        溫度    ℃    可控制因子  1分鐘2筆   \n",
       "\n",
       "    min  max 推測顯著性(依製程經驗)  \n",
       "4   345  365         ****  \n",
       "88   -3    3          ***  "
      ]
     },
     "execution_count": 234,
     "metadata": {},
     "output_type": "execute_result"
    }
   ],
   "source": [
    "tag_sheet = pd.read_excel('tag盤點表.xlsx')\n",
    "tag_sheet.loc[tag_sheet['TAG'].str.contains('0757')==True]"
   ]
  },
  {
   "cell_type": "code",
   "execution_count": 235,
   "metadata": {},
   "outputs": [],
   "source": [
    "temp = tag_sheet.loc[tag_sheet['TAG']=='MLPAP_TIC-0757A.PV',:].copy()\n",
    "temp['TAG'] = 'MLPAP_TI-0757B.PV'\n",
    "tag_sheet = tag_sheet.append(temp).reset_index(drop=True)"
   ]
  },
  {
   "cell_type": "code",
   "execution_count": 236,
   "metadata": {},
   "outputs": [
    {
     "data": {
      "text/html": [
       "<div>\n",
       "<style scoped>\n",
       "    .dataframe tbody tr th:only-of-type {\n",
       "        vertical-align: middle;\n",
       "    }\n",
       "\n",
       "    .dataframe tbody tr th {\n",
       "        vertical-align: top;\n",
       "    }\n",
       "\n",
       "    .dataframe thead th {\n",
       "        text-align: right;\n",
       "    }\n",
       "</style>\n",
       "<table border=\"1\" class=\"dataframe\">\n",
       "  <thead>\n",
       "    <tr style=\"text-align: right;\">\n",
       "      <th></th>\n",
       "      <th>item</th>\n",
       "      <th>TAG</th>\n",
       "      <th>chinese</th>\n",
       "      <th>character</th>\n",
       "      <th>unit</th>\n",
       "      <th>category</th>\n",
       "      <th>period</th>\n",
       "      <th>min</th>\n",
       "      <th>max</th>\n",
       "      <th>推測顯著性(依製程經驗)</th>\n",
       "    </tr>\n",
       "  </thead>\n",
       "  <tbody>\n",
       "    <tr>\n",
       "      <th>4</th>\n",
       "      <td>5.0</td>\n",
       "      <td>MLPAP_TIC-0757A.PV</td>\n",
       "      <td>反應槽鹽浴溫度</td>\n",
       "      <td>溫度</td>\n",
       "      <td>℃</td>\n",
       "      <td>可控制因子</td>\n",
       "      <td>1分鐘2筆</td>\n",
       "      <td>345</td>\n",
       "      <td>365</td>\n",
       "      <td>****</td>\n",
       "    </tr>\n",
       "    <tr>\n",
       "      <th>88</th>\n",
       "      <td>89.0</td>\n",
       "      <td>MLPAP_TIC-0757.PV</td>\n",
       "      <td>反應器A/B側鹽浴溫度差</td>\n",
       "      <td>溫度</td>\n",
       "      <td>℃</td>\n",
       "      <td>可控制因子</td>\n",
       "      <td>1分鐘2筆</td>\n",
       "      <td>-3</td>\n",
       "      <td>3</td>\n",
       "      <td>***</td>\n",
       "    </tr>\n",
       "    <tr>\n",
       "      <th>93</th>\n",
       "      <td>5.0</td>\n",
       "      <td>MLPAP_TI-0757B.PV</td>\n",
       "      <td>反應槽鹽浴溫度</td>\n",
       "      <td>溫度</td>\n",
       "      <td>℃</td>\n",
       "      <td>可控制因子</td>\n",
       "      <td>1分鐘2筆</td>\n",
       "      <td>345</td>\n",
       "      <td>365</td>\n",
       "      <td>****</td>\n",
       "    </tr>\n",
       "  </tbody>\n",
       "</table>\n",
       "</div>"
      ],
      "text/plain": [
       "    item                 TAG       chinese character unit category period  \\\n",
       "4    5.0  MLPAP_TIC-0757A.PV       反應槽鹽浴溫度        溫度    ℃    可控制因子  1分鐘2筆   \n",
       "88  89.0   MLPAP_TIC-0757.PV  反應器A/B側鹽浴溫度差        溫度    ℃    可控制因子  1分鐘2筆   \n",
       "93   5.0   MLPAP_TI-0757B.PV       反應槽鹽浴溫度        溫度    ℃    可控制因子  1分鐘2筆   \n",
       "\n",
       "    min  max 推測顯著性(依製程經驗)  \n",
       "4   345  365         ****  \n",
       "88   -3    3          ***  \n",
       "93  345  365         ****  "
      ]
     },
     "execution_count": 236,
     "metadata": {},
     "output_type": "execute_result"
    }
   ],
   "source": [
    "tag_sheet.loc[tag_sheet['TAG'].str.contains('0757')==True]"
   ]
  },
  {
   "cell_type": "markdown",
   "metadata": {},
   "source": [
    "# spec"
   ]
  },
  {
   "cell_type": "code",
   "execution_count": 237,
   "metadata": {},
   "outputs": [],
   "source": [
    "df.columns = [str(i).replace('TJR','TI') for i in df.columns]\n",
    "tag_sheet['TAG'] = [str(i).replace('TJR','TI') for i in tag_sheet['TAG'].values]"
   ]
  },
  {
   "cell_type": "code",
   "execution_count": 238,
   "metadata": {},
   "outputs": [
    {
     "name": "stdout",
     "output_type": "stream",
     "text": [
      "91\n",
      "保留的欄位\n"
     ]
    },
    {
     "data": {
      "text/html": [
       "<div>\n",
       "<style scoped>\n",
       "    .dataframe tbody tr th:only-of-type {\n",
       "        vertical-align: middle;\n",
       "    }\n",
       "\n",
       "    .dataframe tbody tr th {\n",
       "        vertical-align: top;\n",
       "    }\n",
       "\n",
       "    .dataframe thead th {\n",
       "        text-align: right;\n",
       "    }\n",
       "</style>\n",
       "<table border=\"1\" class=\"dataframe\">\n",
       "  <thead>\n",
       "    <tr style=\"text-align: right;\">\n",
       "      <th></th>\n",
       "      <th>chinese</th>\n",
       "      <th>min</th>\n",
       "      <th>max</th>\n",
       "    </tr>\n",
       "    <tr>\n",
       "      <th>TAG</th>\n",
       "      <th></th>\n",
       "      <th></th>\n",
       "      <th></th>\n",
       "    </tr>\n",
       "  </thead>\n",
       "  <tbody>\n",
       "    <tr>\n",
       "      <th>MLPAP_TJC-0627.PV</th>\n",
       "      <td>OX預熱器出口溫度</td>\n",
       "      <td>140</td>\n",
       "      <td>160</td>\n",
       "    </tr>\n",
       "    <tr>\n",
       "      <th>MLPAP_TRC-0610.PV</th>\n",
       "      <td>空氣預熱器出口溫度</td>\n",
       "      <td>160</td>\n",
       "      <td>200</td>\n",
       "    </tr>\n",
       "    <tr>\n",
       "      <th>MLPAP_FR-0632.PV</th>\n",
       "      <td>汽機風量</td>\n",
       "      <td>30</td>\n",
       "      <td>90</td>\n",
       "    </tr>\n",
       "    <tr>\n",
       "      <th>MLPAP_FQ-0619.PV</th>\n",
       "      <td>OX入料量</td>\n",
       "      <td>2000</td>\n",
       "      <td>8000</td>\n",
       "    </tr>\n",
       "    <tr>\n",
       "      <th>MLPAP_TIC-0757A.PV</th>\n",
       "      <td>反應槽鹽浴溫度</td>\n",
       "      <td>345</td>\n",
       "      <td>365</td>\n",
       "    </tr>\n",
       "    <tr>\n",
       "      <th>...</th>\n",
       "      <td>...</td>\n",
       "      <td>...</td>\n",
       "      <td>...</td>\n",
       "    </tr>\n",
       "    <tr>\n",
       "      <th>MLPAP_TI-0762B2.PV</th>\n",
       "      <td>鹽浴溫度</td>\n",
       "      <td>345</td>\n",
       "      <td>375</td>\n",
       "    </tr>\n",
       "    <tr>\n",
       "      <th>MLPAP_PI-0658.PV</th>\n",
       "      <td>反應器入口壓力</td>\n",
       "      <td>200</td>\n",
       "      <td>500</td>\n",
       "    </tr>\n",
       "    <tr>\n",
       "      <th>MLPAP_TIC-0757.PV</th>\n",
       "      <td>反應器A/B側鹽浴溫度差</td>\n",
       "      <td>-3</td>\n",
       "      <td>3</td>\n",
       "    </tr>\n",
       "    <tr>\n",
       "      <th>MLPAP_V125-PHD</th>\n",
       "      <td>粗PA儲槽PHD</td>\n",
       "      <td>0</td>\n",
       "      <td>0.1</td>\n",
       "    </tr>\n",
       "    <tr>\n",
       "      <th>MLPAP_TI-0757B.PV</th>\n",
       "      <td>反應槽鹽浴溫度</td>\n",
       "      <td>345</td>\n",
       "      <td>365</td>\n",
       "    </tr>\n",
       "  </tbody>\n",
       "</table>\n",
       "<p>91 rows × 3 columns</p>\n",
       "</div>"
      ],
      "text/plain": [
       "                         chinese   min   max\n",
       "TAG                                         \n",
       "MLPAP_TJC-0627.PV      OX預熱器出口溫度   140   160\n",
       "MLPAP_TRC-0610.PV      空氣預熱器出口溫度   160   200\n",
       "MLPAP_FR-0632.PV            汽機風量    30    90\n",
       "MLPAP_FQ-0619.PV           OX入料量  2000  8000\n",
       "MLPAP_TIC-0757A.PV       反應槽鹽浴溫度   345   365\n",
       "...                          ...   ...   ...\n",
       "MLPAP_TI-0762B2.PV          鹽浴溫度   345   375\n",
       "MLPAP_PI-0658.PV         反應器入口壓力   200   500\n",
       "MLPAP_TIC-0757.PV   反應器A/B側鹽浴溫度差    -3     3\n",
       "MLPAP_V125-PHD          粗PA儲槽PHD     0   0.1\n",
       "MLPAP_TI-0757B.PV        反應槽鹽浴溫度   345   365\n",
       "\n",
       "[91 rows x 3 columns]"
      ]
     },
     "execution_count": 238,
     "metadata": {},
     "output_type": "execute_result"
    }
   ],
   "source": [
    "intersection = set(tag_sheet['TAG'].values) & set(df.columns.tolist())\n",
    "spec = tag_sheet[tag_sheet['TAG'].isin(intersection)][['TAG','chinese','min','max']].set_index('TAG')\n",
    "spec.loc['DATA OF USE','min'],spec.loc['DATA OF USE','max'] = 0,1\n",
    "print(spec.shape[0])\n",
    "print(\"保留的欄位\")\n",
    "spec"
   ]
  },
  {
   "cell_type": "markdown",
   "metadata": {},
   "source": [
    "# df 和 tag盤點表的斥集"
   ]
  },
  {
   "cell_type": "code",
   "execution_count": 239,
   "metadata": {},
   "outputs": [
    {
     "name": "stdout",
     "output_type": "stream",
     "text": [
      "{'nan', '第二模型使用'}\n",
      "{'第二模型使用', 'nan'}\n",
      "set()\n"
     ]
    }
   ],
   "source": [
    "print(set(df.columns.tolist())^set(tag_sheet['TAG'].values))\n",
    "print(set(tag_sheet['TAG'].values)-set(df.columns.tolist()))\n",
    "print(set(df.columns.tolist())-set(tag_sheet['TAG'].values))"
   ]
  },
  {
   "cell_type": "code",
   "execution_count": 240,
   "metadata": {},
   "outputs": [
    {
     "name": "stdout",
     "output_type": "stream",
     "text": [
      "(193824, 91)\n"
     ]
    }
   ],
   "source": [
    "df = df[spec.index.tolist()]\n",
    "print(df.shape)"
   ]
  },
  {
   "cell_type": "markdown",
   "metadata": {},
   "source": [
    "# column filter"
   ]
  },
  {
   "cell_type": "code",
   "execution_count": 241,
   "metadata": {},
   "outputs": [],
   "source": [
    "def check_spec_col(df,spec):\n",
    "    count = collections.defaultdict(int)\n",
    "    intersection = set(list(df.columns))&set(list(spec.index))\n",
    "    for col in tqdm(list(intersection)):\n",
    "        lb, ub = spec.loc[col,'min'], spec.loc[col,'max']\n",
    "        over_range = (df[col]<lb)|(df[col]>ub)\n",
    "        count[col] += over_range.sum()\n",
    "    return pd.DataFrame(count.values(),index=count.keys(),columns=['count'])['count']"
   ]
  },
  {
   "cell_type": "code",
   "execution_count": 242,
   "metadata": {},
   "outputs": [
    {
     "data": {
      "application/vnd.jupyter.widget-view+json": {
       "model_id": "4a78c9a6419740999aa3b09adb748920",
       "version_major": 2,
       "version_minor": 0
      },
      "text/plain": [
       "HBox(children=(FloatProgress(value=0.0, max=91.0), HTML(value='')))"
      ]
     },
     "metadata": {},
     "output_type": "display_data"
    },
    {
     "name": "stdout",
     "output_type": "stream",
     "text": [
      "\n",
      "MLPAP_PI-0658.PV     84348\n",
      "MLPAP_PIC-0761.PV    38091\n",
      "MLPAP_TI-0716A16     42900\n",
      "MLPAP_TI-0716A19     45344\n",
      "MLPAP_TI-0716A14     56443\n",
      "                     ...  \n",
      "MLPAP_TI-0716A05     53454\n",
      "MLPAP_TI-0706B06     42945\n",
      "MLPAP_TI-0706B07     42957\n",
      "MLPAP_TI-0706B01     70909\n",
      "MLPAP_TI-0706B16     42901\n",
      "Name: count, Length: 91, dtype: int64\n"
     ]
    },
    {
     "data": {
      "image/png": "[encoded data removed]",
      "text/plain": [
       "<Figure size 432x288 with 1 Axes>"
      ]
     },
     "metadata": {
      "needs_background": "light"
     },
     "output_type": "display_data"
    }
   ],
   "source": [
    "count = check_spec_col(df,spec)\n",
    "print(count)\n",
    "sns.distplot(count)\n",
    "plt.show()"
   ]
  },
  {
   "cell_type": "code",
   "execution_count": 243,
   "metadata": {},
   "outputs": [],
   "source": [
    "def plot_over_range(raw,spec):\n",
    "    df = raw.copy()\n",
    "    intersection = set(list(df.columns))&set(list(spec.index))\n",
    "    for col in tqdm(list(intersection)):\n",
    "        lb, ub = spec.loc[col,'min'], spec.loc[col,'max']\n",
    "        over_range = (df[col]<lb)|(df[col]>ub)\n",
    "        df.loc[over_range,col] = np.nan\n",
    "    return df"
   ]
  },
  {
   "cell_type": "code",
   "execution_count": 244,
   "metadata": {},
   "outputs": [
    {
     "data": {
      "application/vnd.jupyter.widget-view+json": {
       "model_id": "b7478943849e4071870694b1a1545b2c",
       "version_major": 2,
       "version_minor": 0
      },
      "text/plain": [
       "HBox(children=(FloatProgress(value=0.0, max=91.0), HTML(value='')))"
      ]
     },
     "metadata": {},
     "output_type": "display_data"
    },
    {
     "name": "stdout",
     "output_type": "stream",
     "text": [
      "\n"
     ]
    },
    {
     "data": {
      "text/plain": [
       "<matplotlib.axes._subplots.AxesSubplot at 0x7f942d592f60>"
      ]
     },
     "execution_count": 244,
     "metadata": {},
     "output_type": "execute_result"
    },
    {
     "data": {
      "image/png": "[encoded data removed]",
      "text/plain": [
       "<Figure size 1440x360 with 1 Axes>"
      ]
     },
     "metadata": {
      "needs_background": "light"
     },
     "output_type": "display_data"
    }
   ],
   "source": [
    "import warnings \n",
    "warnings.simplefilter('ignore')\n",
    "fig = plt.figure(figsize=(20,5))\n",
    "sns.heatmap(plot_over_range(df,spec).isnull(),yticklabels=False,cbar=False,cmap='viridis')"
   ]
  },
  {
   "cell_type": "markdown",
   "metadata": {},
   "source": [
    "# columns wise delete"
   ]
  },
  {
   "cell_type": "code",
   "execution_count": 245,
   "metadata": {},
   "outputs": [
    {
     "name": "stdout",
     "output_type": "stream",
     "text": [
      "90658.13222399227\n"
     ]
    }
   ],
   "source": [
    "theshold = count.median()+1.5*count.std()\n",
    "print(theshold)"
   ]
  },
  {
   "cell_type": "code",
   "execution_count": 246,
   "metadata": {},
   "outputs": [
    {
     "name": "stdout",
     "output_type": "stream",
     "text": [
      "85\n"
     ]
    }
   ],
   "source": [
    "remain_col = count.loc[count<theshold].index.tolist()\n",
    "y_col = ['MLPAP_FQ-0619.PV','MLPAP_FQI-0997.PV']\n",
    "remain_col = list(set(remain_col)|set(y_col)) \n",
    "print(len(remain_col))"
   ]
  },
  {
   "cell_type": "code",
   "execution_count": 247,
   "metadata": {},
   "outputs": [
    {
     "name": "stdout",
     "output_type": "stream",
     "text": [
      "(193824, 91)\n",
      "(193824, 85)\n"
     ]
    }
   ],
   "source": [
    "print(df.shape)\n",
    "df = df[remain_col]\n",
    "print(df.shape)"
   ]
  },
  {
   "cell_type": "code",
   "execution_count": 248,
   "metadata": {},
   "outputs": [
    {
     "data": {
      "application/vnd.jupyter.widget-view+json": {
       "model_id": "b2742d1f9ee347d79853b18038ce9ffd",
       "version_major": 2,
       "version_minor": 0
      },
      "text/plain": [
       "HBox(children=(FloatProgress(value=0.0, max=85.0), HTML(value='')))"
      ]
     },
     "metadata": {},
     "output_type": "display_data"
    },
    {
     "name": "stdout",
     "output_type": "stream",
     "text": [
      "\n"
     ]
    },
    {
     "data": {
      "text/plain": [
       "<matplotlib.axes._subplots.AxesSubplot at 0x7f942d649f28>"
      ]
     },
     "execution_count": 248,
     "metadata": {},
     "output_type": "execute_result"
    },
    {
     "data": {
      "image/png": "[encoded data removed]",
      "text/plain": [
       "<Figure size 1440x360 with 1 Axes>"
      ]
     },
     "metadata": {
      "needs_background": "light"
     },
     "output_type": "display_data"
    }
   ],
   "source": [
    "fig = plt.figure(figsize=(20,5))\n",
    "sns.heatmap(plot_over_range(df,spec).isnull(),yticklabels=False,cbar=False,cmap='viridis')"
   ]
  },
  {
   "cell_type": "markdown",
   "metadata": {},
   "source": [
    "# OVER RANGE COUNT"
   ]
  },
  {
   "cell_type": "code",
   "execution_count": 249,
   "metadata": {},
   "outputs": [
    {
     "data": {
      "application/vnd.jupyter.widget-view+json": {
       "model_id": "9788ab6258b046dbba462c1781777a52",
       "version_major": 2,
       "version_minor": 0
      },
      "text/plain": [
       "HBox(children=(FloatProgress(value=0.0, max=85.0), HTML(value='')))"
      ]
     },
     "metadata": {},
     "output_type": "display_data"
    },
    {
     "name": "stdout",
     "output_type": "stream",
     "text": [
      "\n"
     ]
    },
    {
     "data": {
      "text/html": [
       "<div>\n",
       "<style scoped>\n",
       "    .dataframe tbody tr th:only-of-type {\n",
       "        vertical-align: middle;\n",
       "    }\n",
       "\n",
       "    .dataframe tbody tr th {\n",
       "        vertical-align: top;\n",
       "    }\n",
       "\n",
       "    .dataframe thead th {\n",
       "        text-align: right;\n",
       "    }\n",
       "</style>\n",
       "<table border=\"1\" class=\"dataframe\">\n",
       "  <thead>\n",
       "    <tr style=\"text-align: right;\">\n",
       "      <th></th>\n",
       "      <th>MLPAP_PI-0658.PV</th>\n",
       "      <th>MLPAP_TI-0716A22</th>\n",
       "      <th>MLPAP_FQI-0997.PV</th>\n",
       "      <th>MLPAP_TI-0706B13</th>\n",
       "      <th>MLPAP_TI-0716A03</th>\n",
       "      <th>MLPAP_TI-0706B01</th>\n",
       "      <th>MLPAP_TI-0715B1.PV</th>\n",
       "      <th>MLPAP_PIC-0761.PV</th>\n",
       "      <th>MLPAP_V125-PHD</th>\n",
       "      <th>MLPAP_TI-0706B02</th>\n",
       "      <th>...</th>\n",
       "      <th>MLPAP_TI-0706B18</th>\n",
       "      <th>MLPAP_TI-0720B1.PV</th>\n",
       "      <th>MLPAP_TI-0716A05</th>\n",
       "      <th>MLPAP_TI-0706B24</th>\n",
       "      <th>MLPAP_TI-0706B06</th>\n",
       "      <th>MLPAP_TI-0706B07</th>\n",
       "      <th>MLPAP_LIC-0738.PV</th>\n",
       "      <th>MLPAP_TI-0706B16</th>\n",
       "      <th>MLPAP_LRC-0729.PV</th>\n",
       "      <th>over_range_count</th>\n",
       "    </tr>\n",
       "  </thead>\n",
       "  <tbody>\n",
       "    <tr>\n",
       "      <th>2016-05-09 00:00:00</th>\n",
       "      <td>-1.000000</td>\n",
       "      <td>401.0</td>\n",
       "      <td>0.0</td>\n",
       "      <td>401.0</td>\n",
       "      <td>400.100219</td>\n",
       "      <td>402.349811</td>\n",
       "      <td>399.684741</td>\n",
       "      <td>46.900002</td>\n",
       "      <td>0.051</td>\n",
       "      <td>400.0</td>\n",
       "      <td>...</td>\n",
       "      <td>401.050078</td>\n",
       "      <td>401.865110</td>\n",
       "      <td>400.0</td>\n",
       "      <td>402.0</td>\n",
       "      <td>401.148767</td>\n",
       "      <td>401.0</td>\n",
       "      <td>5.235951</td>\n",
       "      <td>402.050208</td>\n",
       "      <td>0.0</td>\n",
       "      <td>20</td>\n",
       "    </tr>\n",
       "    <tr>\n",
       "      <th>2016-05-09 00:10:00</th>\n",
       "      <td>-1.000000</td>\n",
       "      <td>401.0</td>\n",
       "      <td>0.0</td>\n",
       "      <td>401.0</td>\n",
       "      <td>400.050129</td>\n",
       "      <td>402.000000</td>\n",
       "      <td>399.625166</td>\n",
       "      <td>46.900002</td>\n",
       "      <td>0.051</td>\n",
       "      <td>400.0</td>\n",
       "      <td>...</td>\n",
       "      <td>401.050052</td>\n",
       "      <td>401.954911</td>\n",
       "      <td>400.0</td>\n",
       "      <td>402.0</td>\n",
       "      <td>401.000000</td>\n",
       "      <td>401.0</td>\n",
       "      <td>5.208001</td>\n",
       "      <td>402.000000</td>\n",
       "      <td>0.0</td>\n",
       "      <td>20</td>\n",
       "    </tr>\n",
       "    <tr>\n",
       "      <th>2016-05-09 00:20:00</th>\n",
       "      <td>-0.898558</td>\n",
       "      <td>401.0</td>\n",
       "      <td>0.0</td>\n",
       "      <td>401.0</td>\n",
       "      <td>400.149919</td>\n",
       "      <td>402.350189</td>\n",
       "      <td>399.670499</td>\n",
       "      <td>46.930040</td>\n",
       "      <td>0.051</td>\n",
       "      <td>400.0</td>\n",
       "      <td>...</td>\n",
       "      <td>401.000000</td>\n",
       "      <td>401.922669</td>\n",
       "      <td>400.0</td>\n",
       "      <td>402.0</td>\n",
       "      <td>401.000000</td>\n",
       "      <td>401.0</td>\n",
       "      <td>5.246516</td>\n",
       "      <td>402.000000</td>\n",
       "      <td>0.0</td>\n",
       "      <td>20</td>\n",
       "    </tr>\n",
       "    <tr>\n",
       "      <th>2016-05-09 00:30:00</th>\n",
       "      <td>-0.509010</td>\n",
       "      <td>401.0</td>\n",
       "      <td>0.0</td>\n",
       "      <td>401.0</td>\n",
       "      <td>400.099776</td>\n",
       "      <td>402.400044</td>\n",
       "      <td>399.697396</td>\n",
       "      <td>46.900002</td>\n",
       "      <td>0.051</td>\n",
       "      <td>400.0</td>\n",
       "      <td>...</td>\n",
       "      <td>401.099855</td>\n",
       "      <td>401.927230</td>\n",
       "      <td>400.0</td>\n",
       "      <td>402.0</td>\n",
       "      <td>401.000000</td>\n",
       "      <td>401.0</td>\n",
       "      <td>5.385347</td>\n",
       "      <td>402.000000</td>\n",
       "      <td>0.0</td>\n",
       "      <td>20</td>\n",
       "    </tr>\n",
       "    <tr>\n",
       "      <th>2016-05-09 00:40:00</th>\n",
       "      <td>-0.992771</td>\n",
       "      <td>401.0</td>\n",
       "      <td>0.0</td>\n",
       "      <td>401.0</td>\n",
       "      <td>400.199982</td>\n",
       "      <td>402.101425</td>\n",
       "      <td>399.775506</td>\n",
       "      <td>46.900002</td>\n",
       "      <td>0.051</td>\n",
       "      <td>400.0</td>\n",
       "      <td>...</td>\n",
       "      <td>401.142628</td>\n",
       "      <td>401.900039</td>\n",
       "      <td>400.0</td>\n",
       "      <td>402.0</td>\n",
       "      <td>401.000000</td>\n",
       "      <td>401.0</td>\n",
       "      <td>5.306820</td>\n",
       "      <td>402.000000</td>\n",
       "      <td>0.0</td>\n",
       "      <td>20</td>\n",
       "    </tr>\n",
       "  </tbody>\n",
       "</table>\n",
       "<p>5 rows × 86 columns</p>\n",
       "</div>"
      ],
      "text/plain": [
       "                     MLPAP_PI-0658.PV  MLPAP_TI-0716A22  MLPAP_FQI-0997.PV  \\\n",
       "2016-05-09 00:00:00         -1.000000             401.0                0.0   \n",
       "2016-05-09 00:10:00         -1.000000             401.0                0.0   \n",
       "2016-05-09 00:20:00         -0.898558             401.0                0.0   \n",
       "2016-05-09 00:30:00         -0.509010             401.0                0.0   \n",
       "2016-05-09 00:40:00         -0.992771             401.0                0.0   \n",
       "\n",
       "                     MLPAP_TI-0706B13  MLPAP_TI-0716A03  MLPAP_TI-0706B01  \\\n",
       "2016-05-09 00:00:00             401.0        400.100219        402.349811   \n",
       "2016-05-09 00:10:00             401.0        400.050129        402.000000   \n",
       "2016-05-09 00:20:00             401.0        400.149919        402.350189   \n",
       "2016-05-09 00:30:00             401.0        400.099776        402.400044   \n",
       "2016-05-09 00:40:00             401.0        400.199982        402.101425   \n",
       "\n",
       "                     MLPAP_TI-0715B1.PV  MLPAP_PIC-0761.PV  MLPAP_V125-PHD  \\\n",
       "2016-05-09 00:00:00          399.684741          46.900002           0.051   \n",
       "2016-05-09 00:10:00          399.625166          46.900002           0.051   \n",
       "2016-05-09 00:20:00          399.670499          46.930040           0.051   \n",
       "2016-05-09 00:30:00          399.697396          46.900002           0.051   \n",
       "2016-05-09 00:40:00          399.775506          46.900002           0.051   \n",
       "\n",
       "                     MLPAP_TI-0706B02  ...  MLPAP_TI-0706B18  \\\n",
       "2016-05-09 00:00:00             400.0  ...        401.050078   \n",
       "2016-05-09 00:10:00             400.0  ...        401.050052   \n",
       "2016-05-09 00:20:00             400.0  ...        401.000000   \n",
       "2016-05-09 00:30:00             400.0  ...        401.099855   \n",
       "2016-05-09 00:40:00             400.0  ...        401.142628   \n",
       "\n",
       "                     MLPAP_TI-0720B1.PV  MLPAP_TI-0716A05  MLPAP_TI-0706B24  \\\n",
       "2016-05-09 00:00:00          401.865110             400.0             402.0   \n",
       "2016-05-09 00:10:00          401.954911             400.0             402.0   \n",
       "2016-05-09 00:20:00          401.922669             400.0             402.0   \n",
       "2016-05-09 00:30:00          401.927230             400.0             402.0   \n",
       "2016-05-09 00:40:00          401.900039             400.0             402.0   \n",
       "\n",
       "                     MLPAP_TI-0706B06  MLPAP_TI-0706B07  MLPAP_LIC-0738.PV  \\\n",
       "2016-05-09 00:00:00        401.148767             401.0           5.235951   \n",
       "2016-05-09 00:10:00        401.000000             401.0           5.208001   \n",
       "2016-05-09 00:20:00        401.000000             401.0           5.246516   \n",
       "2016-05-09 00:30:00        401.000000             401.0           5.385347   \n",
       "2016-05-09 00:40:00        401.000000             401.0           5.306820   \n",
       "\n",
       "                     MLPAP_TI-0706B16  MLPAP_LRC-0729.PV  over_range_count  \n",
       "2016-05-09 00:00:00        402.050208                0.0                20  \n",
       "2016-05-09 00:10:00        402.000000                0.0                20  \n",
       "2016-05-09 00:20:00        402.000000                0.0                20  \n",
       "2016-05-09 00:30:00        402.000000                0.0                20  \n",
       "2016-05-09 00:40:00        402.000000                0.0                20  \n",
       "\n",
       "[5 rows x 86 columns]"
      ]
     },
     "execution_count": 249,
     "metadata": {},
     "output_type": "execute_result"
    }
   ],
   "source": [
    "def check_spec(df,spec):\n",
    "    df['over_range_count'] = 0\n",
    "    for col in tqdm(df.columns[:-1]):\n",
    "        lb, ub = spec.loc[col,'min'],spec.loc[col,'max']\n",
    "        over_range = (df[col]<lb)|(df[col]>ub)\n",
    "        df.loc[over_range,'over_range_count'] += 1\n",
    "    return df\n",
    "df = check_spec(df,spec)\n",
    "df.head()"
   ]
  },
  {
   "cell_type": "code",
   "execution_count": 250,
   "metadata": {},
   "outputs": [
    {
     "data": {
      "text/plain": [
       "<matplotlib.axes._subplots.AxesSubplot at 0x7f942d3f9cf8>"
      ]
     },
     "execution_count": 250,
     "metadata": {},
     "output_type": "execute_result"
    },
    {
     "data": {
      "image/png": "[encoded data removed]",
      "text/plain": [
       "<Figure size 432x288 with 1 Axes>"
      ]
     },
     "metadata": {
      "needs_background": "light"
     },
     "output_type": "display_data"
    }
   ],
   "source": [
    "sns.distplot(df['over_range_count'])"
   ]
  },
  {
   "cell_type": "code",
   "execution_count": 251,
   "metadata": {},
   "outputs": [
    {
     "data": {
      "text/plain": [
       "Text(0, 0.5, 'over_range_count')"
      ]
     },
     "execution_count": 251,
     "metadata": {},
     "output_type": "execute_result"
    },
    {
     "data": {
      "image/png": "[encoded data removed]",
      "text/plain": [
       "<Figure size 1440x360 with 1 Axes>"
      ]
     },
     "metadata": {
      "needs_background": "light"
     },
     "output_type": "display_data"
    }
   ],
   "source": [
    "fig = plt.figure(figsize=(20,5))\n",
    "df['over_range_count'].plot(title='over_range_count along time')\n",
    "plt.ylabel('over_range_count')"
   ]
  },
  {
   "cell_type": "markdown",
   "metadata": {},
   "source": [
    "# add target"
   ]
  },
  {
   "cell_type": "code",
   "execution_count": 252,
   "metadata": {},
   "outputs": [
    {
     "data": {
      "text/html": [
       "<div>\n",
       "<style scoped>\n",
       "    .dataframe tbody tr th:only-of-type {\n",
       "        vertical-align: middle;\n",
       "    }\n",
       "\n",
       "    .dataframe tbody tr th {\n",
       "        vertical-align: top;\n",
       "    }\n",
       "\n",
       "    .dataframe thead th {\n",
       "        text-align: right;\n",
       "    }\n",
       "</style>\n",
       "<table border=\"1\" class=\"dataframe\">\n",
       "  <thead>\n",
       "    <tr style=\"text-align: right;\">\n",
       "      <th></th>\n",
       "      <th>MLPAP_FQI-0997.PV</th>\n",
       "      <th>MLPAP_FQ-0619.PV</th>\n",
       "    </tr>\n",
       "  </thead>\n",
       "  <tbody>\n",
       "    <tr>\n",
       "      <th>2016-05-09 00:00:00</th>\n",
       "      <td>0.0</td>\n",
       "      <td>0.0</td>\n",
       "    </tr>\n",
       "    <tr>\n",
       "      <th>2016-05-09 00:10:00</th>\n",
       "      <td>0.0</td>\n",
       "      <td>0.0</td>\n",
       "    </tr>\n",
       "    <tr>\n",
       "      <th>2016-05-09 00:20:00</th>\n",
       "      <td>0.0</td>\n",
       "      <td>0.0</td>\n",
       "    </tr>\n",
       "    <tr>\n",
       "      <th>2016-05-09 00:30:00</th>\n",
       "      <td>0.0</td>\n",
       "      <td>0.0</td>\n",
       "    </tr>\n",
       "    <tr>\n",
       "      <th>2016-05-09 00:40:00</th>\n",
       "      <td>0.0</td>\n",
       "      <td>0.0</td>\n",
       "    </tr>\n",
       "    <tr>\n",
       "      <th>...</th>\n",
       "      <td>...</td>\n",
       "      <td>...</td>\n",
       "    </tr>\n",
       "    <tr>\n",
       "      <th>2020-01-14 23:10:00</th>\n",
       "      <td>0.0</td>\n",
       "      <td>0.0</td>\n",
       "    </tr>\n",
       "    <tr>\n",
       "      <th>2020-01-14 23:20:00</th>\n",
       "      <td>0.0</td>\n",
       "      <td>0.0</td>\n",
       "    </tr>\n",
       "    <tr>\n",
       "      <th>2020-01-14 23:30:00</th>\n",
       "      <td>0.0</td>\n",
       "      <td>0.0</td>\n",
       "    </tr>\n",
       "    <tr>\n",
       "      <th>2020-01-14 23:40:00</th>\n",
       "      <td>0.0</td>\n",
       "      <td>0.0</td>\n",
       "    </tr>\n",
       "    <tr>\n",
       "      <th>2020-01-14 23:50:00</th>\n",
       "      <td>0.0</td>\n",
       "      <td>0.0</td>\n",
       "    </tr>\n",
       "  </tbody>\n",
       "</table>\n",
       "<p>193824 rows × 2 columns</p>\n",
       "</div>"
      ],
      "text/plain": [
       "                     MLPAP_FQI-0997.PV  MLPAP_FQ-0619.PV\n",
       "2016-05-09 00:00:00                0.0               0.0\n",
       "2016-05-09 00:10:00                0.0               0.0\n",
       "2016-05-09 00:20:00                0.0               0.0\n",
       "2016-05-09 00:30:00                0.0               0.0\n",
       "2016-05-09 00:40:00                0.0               0.0\n",
       "...                                ...               ...\n",
       "2020-01-14 23:10:00                0.0               0.0\n",
       "2020-01-14 23:20:00                0.0               0.0\n",
       "2020-01-14 23:30:00                0.0               0.0\n",
       "2020-01-14 23:40:00                0.0               0.0\n",
       "2020-01-14 23:50:00                0.0               0.0\n",
       "\n",
       "[193824 rows x 2 columns]"
      ]
     },
     "execution_count": 252,
     "metadata": {},
     "output_type": "execute_result"
    }
   ],
   "source": [
    "df[df.columns[df.columns.str.contains('0997|0619')]]"
   ]
  },
  {
   "cell_type": "code",
   "execution_count": 253,
   "metadata": {},
   "outputs": [
    {
     "data": {
      "text/plain": [
       "<matplotlib.axes._subplots.AxesSubplot at 0x7f94246c6550>"
      ]
     },
     "execution_count": 253,
     "metadata": {},
     "output_type": "execute_result"
    },
    {
     "data": {
      "image/png": "[encoded data removed]",
      "text/plain": [
       "<Figure size 432x288 with 1 Axes>"
      ]
     },
     "metadata": {
      "needs_background": "light"
     },
     "output_type": "display_data"
    }
   ],
   "source": [
    "df[df.columns[df.columns.str.contains('0997|0619')]].plot()"
   ]
  },
  {
   "cell_type": "markdown",
   "metadata": {},
   "source": [
    "# select 0619 and 0997 is vaild's part"
   ]
  },
  {
   "cell_type": "code",
   "execution_count": 254,
   "metadata": {},
   "outputs": [],
   "source": [
    "df['target'] = 0.9"
   ]
  },
  {
   "cell_type": "code",
   "execution_count": 255,
   "metadata": {},
   "outputs": [
    {
     "name": "stdout",
     "output_type": "stream",
     "text": [
      "2000 8000\n",
      "5000 10000\n"
     ]
    }
   ],
   "source": [
    "# 0619\n",
    "lb,ub = tag_sheet[tag_sheet['TAG']=='MLPAP_FQ-0619.PV'][['min','max']].values[0]\n",
    "print(lb,ub)\n",
    "c1 = (df['MLPAP_FQ-0619.PV']>lb)&(df['MLPAP_FQ-0619.PV']<ub)\n",
    "\n",
    "# 0997\n",
    "lb,ub = tag_sheet[tag_sheet['TAG']=='MLPAP_FQI-0997.PV'][['min','max']].values[0]\n",
    "print(lb,ub)\n",
    "c2 = (df['MLPAP_FQI-0997.PV']>lb)&(df['MLPAP_FQI-0997.PV']<ub)\n",
    "\n",
    "# target not vaild is np.nan\n",
    "df.loc[~(c1&c2),'target'] = np.nan"
   ]
  },
  {
   "cell_type": "code",
   "execution_count": 256,
   "metadata": {},
   "outputs": [],
   "source": [
    "df.loc[c1&c2,'target'] = df['MLPAP_FQ-0619.PV']/df['MLPAP_FQI-0997.PV']\n",
    "df = df.drop(['MLPAP_FQ-0619.PV','MLPAP_FQI-0997.PV'],axis=1)"
   ]
  },
  {
   "cell_type": "markdown",
   "metadata": {},
   "source": [
    "# spec target"
   ]
  },
  {
   "cell_type": "code",
   "execution_count": 257,
   "metadata": {},
   "outputs": [
    {
     "data": {
      "text/plain": [
       "<matplotlib.axes._subplots.AxesSubplot at 0x7f942d5752b0>"
      ]
     },
     "execution_count": 257,
     "metadata": {},
     "output_type": "execute_result"
    },
    {
     "data": {
      "image/png": "[encoded data removed]",
      "text/plain": [
       "<Figure size 432x288 with 1 Axes>"
      ]
     },
     "metadata": {
      "needs_background": "light"
     },
     "output_type": "display_data"
    }
   ],
   "source": [
    "df['target'].dropna().plot(kind='box')"
   ]
  },
  {
   "cell_type": "code",
   "execution_count": 258,
   "metadata": {},
   "outputs": [
    {
     "data": {
      "text/plain": [
       "<matplotlib.axes._subplots.AxesSubplot at 0x7f93ca310048>"
      ]
     },
     "execution_count": 258,
     "metadata": {},
     "output_type": "execute_result"
    },
    {
     "data": {
      "image/png": "[encoded data removed]",
      "text/plain": [
       "<Figure size 432x288 with 1 Axes>"
      ]
     },
     "metadata": {
      "needs_background": "light"
     },
     "output_type": "display_data"
    }
   ],
   "source": [
    "df['target'].dropna().plot(kind='kde')"
   ]
  },
  {
   "cell_type": "markdown",
   "metadata": {},
   "source": [
    "# IQR"
   ]
  },
  {
   "cell_type": "code",
   "execution_count": 259,
   "metadata": {},
   "outputs": [
    {
     "name": "stdout",
     "output_type": "stream",
     "text": [
      "0.8738288162274948 0.9418043223250774\n"
     ]
    },
    {
     "data": {
      "text/plain": [
       "<matplotlib.axes._subplots.AxesSubplot at 0x7f93ca26abe0>"
      ]
     },
     "execution_count": 259,
     "metadata": {},
     "output_type": "execute_result"
    },
    {
     "data": {
      "image/png": "[encoded data removed]",
      "text/plain": [
       "<Figure size 432x288 with 1 Axes>"
      ]
     },
     "metadata": {
      "needs_background": "light"
     },
     "output_type": "display_data"
    }
   ],
   "source": [
    "Q75 = df['target'].quantile(0.75)\n",
    "Q25 = df['target'].quantile(0.25)\n",
    "IQR = Q75 - Q25 \n",
    "ub = Q75 + 1.5*IQR\n",
    "lb = Q25 - 1.5*IQR\n",
    "print(lb,ub)\n",
    "\n",
    "out = (df['target']<lb)|(df['target']>ub)\n",
    "df.loc[out,'target'] = np.nan\n",
    "\n",
    "df['target'].plot(kind='box')"
   ]
  },
  {
   "cell_type": "code",
   "execution_count": 260,
   "metadata": {},
   "outputs": [
    {
     "data": {
      "text/plain": [
       "59024"
      ]
     },
     "execution_count": 260,
     "metadata": {},
     "output_type": "execute_result"
    }
   ],
   "source": [
    "df['target'].isnull().sum()"
   ]
  },
  {
   "cell_type": "markdown",
   "metadata": {},
   "source": [
    "# save"
   ]
  },
  {
   "cell_type": "code",
   "execution_count": 261,
   "metadata": {},
   "outputs": [
    {
     "data": {
      "text/html": [
       "<div>\n",
       "<style scoped>\n",
       "    .dataframe tbody tr th:only-of-type {\n",
       "        vertical-align: middle;\n",
       "    }\n",
       "\n",
       "    .dataframe tbody tr th {\n",
       "        vertical-align: top;\n",
       "    }\n",
       "\n",
       "    .dataframe thead th {\n",
       "        text-align: right;\n",
       "    }\n",
       "</style>\n",
       "<table border=\"1\" class=\"dataframe\">\n",
       "  <thead>\n",
       "    <tr style=\"text-align: right;\">\n",
       "      <th></th>\n",
       "      <th>MLPAP_PI-0658.PV</th>\n",
       "      <th>MLPAP_TI-0716A22</th>\n",
       "      <th>MLPAP_TI-0706B13</th>\n",
       "      <th>MLPAP_TI-0716A03</th>\n",
       "      <th>MLPAP_TI-0706B01</th>\n",
       "      <th>MLPAP_TI-0715B1.PV</th>\n",
       "      <th>MLPAP_PIC-0761.PV</th>\n",
       "      <th>MLPAP_V125-PHD</th>\n",
       "      <th>MLPAP_TI-0706B02</th>\n",
       "      <th>MLPAP_TI-0716A16</th>\n",
       "      <th>...</th>\n",
       "      <th>MLPAP_TI-0720B1.PV</th>\n",
       "      <th>MLPAP_TI-0716A05</th>\n",
       "      <th>MLPAP_TI-0706B24</th>\n",
       "      <th>MLPAP_TI-0706B06</th>\n",
       "      <th>MLPAP_TI-0706B07</th>\n",
       "      <th>MLPAP_LIC-0738.PV</th>\n",
       "      <th>MLPAP_TI-0706B16</th>\n",
       "      <th>MLPAP_LRC-0729.PV</th>\n",
       "      <th>over_range_count</th>\n",
       "      <th>target</th>\n",
       "    </tr>\n",
       "  </thead>\n",
       "  <tbody>\n",
       "    <tr>\n",
       "      <th>2016-05-09 00:00:00</th>\n",
       "      <td>-1.000000</td>\n",
       "      <td>401.0</td>\n",
       "      <td>401.0</td>\n",
       "      <td>400.100219</td>\n",
       "      <td>402.349811</td>\n",
       "      <td>399.684741</td>\n",
       "      <td>46.900002</td>\n",
       "      <td>0.051</td>\n",
       "      <td>400.0</td>\n",
       "      <td>401.253627</td>\n",
       "      <td>...</td>\n",
       "      <td>401.865110</td>\n",
       "      <td>400.0</td>\n",
       "      <td>402.0</td>\n",
       "      <td>401.148767</td>\n",
       "      <td>401.0</td>\n",
       "      <td>5.235951</td>\n",
       "      <td>402.050208</td>\n",
       "      <td>0.0</td>\n",
       "      <td>20</td>\n",
       "      <td>NaN</td>\n",
       "    </tr>\n",
       "    <tr>\n",
       "      <th>2016-05-09 00:10:00</th>\n",
       "      <td>-1.000000</td>\n",
       "      <td>401.0</td>\n",
       "      <td>401.0</td>\n",
       "      <td>400.050129</td>\n",
       "      <td>402.000000</td>\n",
       "      <td>399.625166</td>\n",
       "      <td>46.900002</td>\n",
       "      <td>0.051</td>\n",
       "      <td>400.0</td>\n",
       "      <td>401.361592</td>\n",
       "      <td>...</td>\n",
       "      <td>401.954911</td>\n",
       "      <td>400.0</td>\n",
       "      <td>402.0</td>\n",
       "      <td>401.000000</td>\n",
       "      <td>401.0</td>\n",
       "      <td>5.208001</td>\n",
       "      <td>402.000000</td>\n",
       "      <td>0.0</td>\n",
       "      <td>20</td>\n",
       "      <td>NaN</td>\n",
       "    </tr>\n",
       "    <tr>\n",
       "      <th>2016-05-09 00:20:00</th>\n",
       "      <td>-0.898558</td>\n",
       "      <td>401.0</td>\n",
       "      <td>401.0</td>\n",
       "      <td>400.149919</td>\n",
       "      <td>402.350189</td>\n",
       "      <td>399.670499</td>\n",
       "      <td>46.930040</td>\n",
       "      <td>0.051</td>\n",
       "      <td>400.0</td>\n",
       "      <td>401.899611</td>\n",
       "      <td>...</td>\n",
       "      <td>401.922669</td>\n",
       "      <td>400.0</td>\n",
       "      <td>402.0</td>\n",
       "      <td>401.000000</td>\n",
       "      <td>401.0</td>\n",
       "      <td>5.246516</td>\n",
       "      <td>402.000000</td>\n",
       "      <td>0.0</td>\n",
       "      <td>20</td>\n",
       "      <td>NaN</td>\n",
       "    </tr>\n",
       "    <tr>\n",
       "      <th>2016-05-09 00:30:00</th>\n",
       "      <td>-0.509010</td>\n",
       "      <td>401.0</td>\n",
       "      <td>401.0</td>\n",
       "      <td>400.099776</td>\n",
       "      <td>402.400044</td>\n",
       "      <td>399.697396</td>\n",
       "      <td>46.900002</td>\n",
       "      <td>0.051</td>\n",
       "      <td>400.0</td>\n",
       "      <td>401.849886</td>\n",
       "      <td>...</td>\n",
       "      <td>401.927230</td>\n",
       "      <td>400.0</td>\n",
       "      <td>402.0</td>\n",
       "      <td>401.000000</td>\n",
       "      <td>401.0</td>\n",
       "      <td>5.385347</td>\n",
       "      <td>402.000000</td>\n",
       "      <td>0.0</td>\n",
       "      <td>20</td>\n",
       "      <td>NaN</td>\n",
       "    </tr>\n",
       "    <tr>\n",
       "      <th>2016-05-09 00:40:00</th>\n",
       "      <td>-0.992771</td>\n",
       "      <td>401.0</td>\n",
       "      <td>401.0</td>\n",
       "      <td>400.199982</td>\n",
       "      <td>402.101425</td>\n",
       "      <td>399.775506</td>\n",
       "      <td>46.900002</td>\n",
       "      <td>0.051</td>\n",
       "      <td>400.0</td>\n",
       "      <td>401.599924</td>\n",
       "      <td>...</td>\n",
       "      <td>401.900039</td>\n",
       "      <td>400.0</td>\n",
       "      <td>402.0</td>\n",
       "      <td>401.000000</td>\n",
       "      <td>401.0</td>\n",
       "      <td>5.306820</td>\n",
       "      <td>402.000000</td>\n",
       "      <td>0.0</td>\n",
       "      <td>20</td>\n",
       "      <td>NaN</td>\n",
       "    </tr>\n",
       "  </tbody>\n",
       "</table>\n",
       "<p>5 rows × 85 columns</p>\n",
       "</div>"
      ],
      "text/plain": [
       "                     MLPAP_PI-0658.PV  MLPAP_TI-0716A22  MLPAP_TI-0706B13  \\\n",
       "2016-05-09 00:00:00         -1.000000             401.0             401.0   \n",
       "2016-05-09 00:10:00         -1.000000             401.0             401.0   \n",
       "2016-05-09 00:20:00         -0.898558             401.0             401.0   \n",
       "2016-05-09 00:30:00         -0.509010             401.0             401.0   \n",
       "2016-05-09 00:40:00         -0.992771             401.0             401.0   \n",
       "\n",
       "                     MLPAP_TI-0716A03  MLPAP_TI-0706B01  MLPAP_TI-0715B1.PV  \\\n",
       "2016-05-09 00:00:00        400.100219        402.349811          399.684741   \n",
       "2016-05-09 00:10:00        400.050129        402.000000          399.625166   \n",
       "2016-05-09 00:20:00        400.149919        402.350189          399.670499   \n",
       "2016-05-09 00:30:00        400.099776        402.400044          399.697396   \n",
       "2016-05-09 00:40:00        400.199982        402.101425          399.775506   \n",
       "\n",
       "                     MLPAP_PIC-0761.PV  MLPAP_V125-PHD  MLPAP_TI-0706B02  \\\n",
       "2016-05-09 00:00:00          46.900002           0.051             400.0   \n",
       "2016-05-09 00:10:00          46.900002           0.051             400.0   \n",
       "2016-05-09 00:20:00          46.930040           0.051             400.0   \n",
       "2016-05-09 00:30:00          46.900002           0.051             400.0   \n",
       "2016-05-09 00:40:00          46.900002           0.051             400.0   \n",
       "\n",
       "                     MLPAP_TI-0716A16  ...  MLPAP_TI-0720B1.PV  \\\n",
       "2016-05-09 00:00:00        401.253627  ...          401.865110   \n",
       "2016-05-09 00:10:00        401.361592  ...          401.954911   \n",
       "2016-05-09 00:20:00        401.899611  ...          401.922669   \n",
       "2016-05-09 00:30:00        401.849886  ...          401.927230   \n",
       "2016-05-09 00:40:00        401.599924  ...          401.900039   \n",
       "\n",
       "                     MLPAP_TI-0716A05  MLPAP_TI-0706B24  MLPAP_TI-0706B06  \\\n",
       "2016-05-09 00:00:00             400.0             402.0        401.148767   \n",
       "2016-05-09 00:10:00             400.0             402.0        401.000000   \n",
       "2016-05-09 00:20:00             400.0             402.0        401.000000   \n",
       "2016-05-09 00:30:00             400.0             402.0        401.000000   \n",
       "2016-05-09 00:40:00             400.0             402.0        401.000000   \n",
       "\n",
       "                     MLPAP_TI-0706B07  MLPAP_LIC-0738.PV  MLPAP_TI-0706B16  \\\n",
       "2016-05-09 00:00:00             401.0           5.235951        402.050208   \n",
       "2016-05-09 00:10:00             401.0           5.208001        402.000000   \n",
       "2016-05-09 00:20:00             401.0           5.246516        402.000000   \n",
       "2016-05-09 00:30:00             401.0           5.385347        402.000000   \n",
       "2016-05-09 00:40:00             401.0           5.306820        402.000000   \n",
       "\n",
       "                     MLPAP_LRC-0729.PV  over_range_count  target  \n",
       "2016-05-09 00:00:00                0.0                20     NaN  \n",
       "2016-05-09 00:10:00                0.0                20     NaN  \n",
       "2016-05-09 00:20:00                0.0                20     NaN  \n",
       "2016-05-09 00:30:00                0.0                20     NaN  \n",
       "2016-05-09 00:40:00                0.0                20     NaN  \n",
       "\n",
       "[5 rows x 85 columns]"
      ]
     },
     "execution_count": 261,
     "metadata": {},
     "output_type": "execute_result"
    }
   ],
   "source": [
    "df.head()"
   ]
  },
  {
   "cell_type": "code",
   "execution_count": 262,
   "metadata": {},
   "outputs": [
    {
     "data": {
      "text/plain": [
       "<matplotlib.axes._subplots.AxesSubplot at 0x7f93ca1d8160>"
      ]
     },
     "execution_count": 262,
     "metadata": {},
     "output_type": "execute_result"
    },
    {
     "data": {
      "image/png": "[encoded data removed]",
      "text/plain": [
       "<Figure size 1440x360 with 1 Axes>"
      ]
     },
     "metadata": {
      "needs_background": "light"
     },
     "output_type": "display_data"
    }
   ],
   "source": [
    "fig = plt.figure(figsize=(20,5))\n",
    "sns.heatmap(df.isnull(),yticklabels=False,cbar=False,cmap='viridis')"
   ]
  },
  {
   "cell_type": "code",
   "execution_count": 263,
   "metadata": {},
   "outputs": [],
   "source": [
    "df.to_csv('./data/train_spec_checked_and_add_target(full).csv')"
   ]
  },
  {
   "cell_type": "code",
   "execution_count": null,
   "metadata": {},
   "outputs": [],
   "source": []
  }
 ],
 "metadata": {
  "kernelspec": {
   "display_name": "Python 3",
   "language": "python",
   "name": "python3"
  },
  "language_info": {
   "codemirror_mode": {
    "name": "ipython",
    "version": 3
   },
   "file_extension": ".py",
   "mimetype": "text/x-python",
   "name": "python",
   "nbconvert_exporter": "python",
   "pygments_lexer": "ipython3",
   "version": "3.6.9"
  }
 },
 "nbformat": 4,
 "nbformat_minor": 2
}
